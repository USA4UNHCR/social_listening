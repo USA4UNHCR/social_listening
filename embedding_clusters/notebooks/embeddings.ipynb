{
 "cells": [
  {
   "cell_type": "code",
   "execution_count": 2,
   "metadata": {
    "collapsed": true
   },
   "outputs": [],
   "source": [
    "import tensorflow as tf\n",
    "import tensorflow_hub as hub\n",
    "import matplotlib.pyplot as plt\n",
    "import numpy as np\n",
    "import os\n",
    "import pandas as pd\n",
    "import re\n",
    "import seaborn as sns"
   ]
  },
  {
   "cell_type": "code",
   "execution_count": 8,
   "metadata": {
    "collapsed": true
   },
   "outputs": [],
   "source": [
    "module_url = \"https://tfhub.dev/google/universal-sentence-encoder/2\"\n",
    "tf.logging.set_verbosity(tf.logging.ERROR)\n",
    "np.random.seed(6)"
   ]
  },
  {
   "cell_type": "code",
   "execution_count": 4,
   "metadata": {
    "collapsed": false
   },
   "outputs": [
    {
     "data": {
      "text/html": [
       "<div>\n",
       "<style scoped>\n",
       "    .dataframe tbody tr th:only-of-type {\n",
       "        vertical-align: middle;\n",
       "    }\n",
       "\n",
       "    .dataframe tbody tr th {\n",
       "        vertical-align: top;\n",
       "    }\n",
       "\n",
       "    .dataframe thead th {\n",
       "        text-align: right;\n",
       "    }\n",
       "</style>\n",
       "<table border=\"1\" class=\"dataframe\">\n",
       "  <thead>\n",
       "    <tr style=\"text-align: right;\">\n",
       "      <th></th>\n",
       "      <th>_id</th>\n",
       "      <th>created_at</th>\n",
       "      <th>favorite_count</th>\n",
       "      <th>full_text</th>\n",
       "      <th>retweet_count</th>\n",
       "      <th>u4u_dataset</th>\n",
       "      <th>user.created_at</th>\n",
       "      <th>user.description</th>\n",
       "      <th>user.followers_count</th>\n",
       "      <th>user.friends_count</th>\n",
       "      <th>user.lang</th>\n",
       "      <th>user.listed_count</th>\n",
       "      <th>user.location</th>\n",
       "      <th>user.name</th>\n",
       "      <th>user.screen_name</th>\n",
       "    </tr>\n",
       "  </thead>\n",
       "  <tbody>\n",
       "    <tr>\n",
       "      <th>0</th>\n",
       "      <td>5bd86c7968a761d62501fda2</td>\n",
       "      <td>Sun Sep 23 15:01:52 +0000 2018</td>\n",
       "      <td>1</td>\n",
       "      <td>2016\\nRemember when #PeterDutton was found gui...</td>\n",
       "      <td>0</td>\n",
       "      <td>asylumseeker</td>\n",
       "      <td>Wed Oct 02 00:18:21 +0000 2013</td>\n",
       "      <td>This page is sharing information about the Lib...</td>\n",
       "      <td>6490</td>\n",
       "      <td>5435</td>\n",
       "      <td>en</td>\n",
       "      <td>261</td>\n",
       "      <td>Western Australia</td>\n",
       "      <td>TALAOLP</td>\n",
       "      <td>Talaolp</td>\n",
       "    </tr>\n",
       "    <tr>\n",
       "      <th>1</th>\n",
       "      <td>5bd86c7968a761d62501fda5</td>\n",
       "      <td>Sun Sep 23 11:09:04 +0000 2018</td>\n",
       "      <td>1</td>\n",
       "      <td>This pains me, but it's time to compromise on ...</td>\n",
       "      <td>1</td>\n",
       "      <td>asylumseeker</td>\n",
       "      <td>Sat Nov 28 02:34:51 +0000 2009</td>\n",
       "      <td>big fan of irreverent  political commentary, c...</td>\n",
       "      <td>1966</td>\n",
       "      <td>3281</td>\n",
       "      <td>en</td>\n",
       "      <td>125</td>\n",
       "      <td>country Victoria, Australia</td>\n",
       "      <td>eithne</td>\n",
       "      <td>eithne52</td>\n",
       "    </tr>\n",
       "    <tr>\n",
       "      <th>2</th>\n",
       "      <td>5bd86c7968a761d62501fda9</td>\n",
       "      <td>Sun Sep 23 02:01:55 +0000 2018</td>\n",
       "      <td>7</td>\n",
       "      <td>What about all his other well paid jobs! He ha...</td>\n",
       "      <td>2</td>\n",
       "      <td>asylumseeker</td>\n",
       "      <td>Mon Oct 22 07:25:28 +0000 2012</td>\n",
       "      <td>#Wiimpitja - black fella #BarkindjiNation #Kal...</td>\n",
       "      <td>8583</td>\n",
       "      <td>5514</td>\n",
       "      <td>en</td>\n",
       "      <td>358</td>\n",
       "      <td>NaN</td>\n",
       "      <td>Paul Dutton</td>\n",
       "      <td>pauldutton1968</td>\n",
       "    </tr>\n",
       "    <tr>\n",
       "      <th>3</th>\n",
       "      <td>5bd86c7968a761d62501fdab</td>\n",
       "      <td>Sun Sep 23 00:47:55 +0000 2018</td>\n",
       "      <td>2</td>\n",
       "      <td>A must read analysis of policy paralysis on as...</td>\n",
       "      <td>2</td>\n",
       "      <td>asylumseeker</td>\n",
       "      <td>Sat Aug 03 03:08:39 +0000 2013</td>\n",
       "      <td>Senior Counsel, AWL Woman Lawyer of the Year, ...</td>\n",
       "      <td>5019</td>\n",
       "      <td>932</td>\n",
       "      <td>en</td>\n",
       "      <td>85</td>\n",
       "      <td>Australia</td>\n",
       "      <td>Fi McLeod SC</td>\n",
       "      <td>FiMcLeodSC</td>\n",
       "    </tr>\n",
       "    <tr>\n",
       "      <th>4</th>\n",
       "      <td>5bd86c7968a761d62501fdaf</td>\n",
       "      <td>Sat Sep 22 02:49:45 +0000 2018</td>\n",
       "      <td>0</td>\n",
       "      <td>\"@halyapuff: #Ukrainian prosecutor general adm...</td>\n",
       "      <td>0</td>\n",
       "      <td>asylumseeker</td>\n",
       "      <td>Fri Feb 04 22:40:35 +0000 2011</td>\n",
       "      <td>NaN</td>\n",
       "      <td>2097</td>\n",
       "      <td>1853</td>\n",
       "      <td>en</td>\n",
       "      <td>83</td>\n",
       "      <td>THE MOON</td>\n",
       "      <td>Gaby Skittles friend</td>\n",
       "      <td>GABchaag10</td>\n",
       "    </tr>\n",
       "  </tbody>\n",
       "</table>\n",
       "</div>"
      ],
      "text/plain": [
       "                        _id                      created_at  favorite_count  \\\n",
       "0  5bd86c7968a761d62501fda2  Sun Sep 23 15:01:52 +0000 2018               1   \n",
       "1  5bd86c7968a761d62501fda5  Sun Sep 23 11:09:04 +0000 2018               1   \n",
       "2  5bd86c7968a761d62501fda9  Sun Sep 23 02:01:55 +0000 2018               7   \n",
       "3  5bd86c7968a761d62501fdab  Sun Sep 23 00:47:55 +0000 2018               2   \n",
       "4  5bd86c7968a761d62501fdaf  Sat Sep 22 02:49:45 +0000 2018               0   \n",
       "\n",
       "                                           full_text  retweet_count  \\\n",
       "0  2016\\nRemember when #PeterDutton was found gui...              0   \n",
       "1  This pains me, but it's time to compromise on ...              1   \n",
       "2  What about all his other well paid jobs! He ha...              2   \n",
       "3  A must read analysis of policy paralysis on as...              2   \n",
       "4  \"@halyapuff: #Ukrainian prosecutor general adm...              0   \n",
       "\n",
       "    u4u_dataset                 user.created_at  \\\n",
       "0  asylumseeker  Wed Oct 02 00:18:21 +0000 2013   \n",
       "1  asylumseeker  Sat Nov 28 02:34:51 +0000 2009   \n",
       "2  asylumseeker  Mon Oct 22 07:25:28 +0000 2012   \n",
       "3  asylumseeker  Sat Aug 03 03:08:39 +0000 2013   \n",
       "4  asylumseeker  Fri Feb 04 22:40:35 +0000 2011   \n",
       "\n",
       "                                    user.description  user.followers_count  \\\n",
       "0  This page is sharing information about the Lib...                  6490   \n",
       "1  big fan of irreverent  political commentary, c...                  1966   \n",
       "2  #Wiimpitja - black fella #BarkindjiNation #Kal...                  8583   \n",
       "3  Senior Counsel, AWL Woman Lawyer of the Year, ...                  5019   \n",
       "4                                                NaN                  2097   \n",
       "\n",
       "   user.friends_count user.lang  user.listed_count  \\\n",
       "0                5435        en                261   \n",
       "1                3281        en                125   \n",
       "2                5514        en                358   \n",
       "3                 932        en                 85   \n",
       "4                1853        en                 83   \n",
       "\n",
       "                 user.location             user.name user.screen_name  \n",
       "0            Western Australia               TALAOLP          Talaolp  \n",
       "1  country Victoria, Australia                eithne         eithne52  \n",
       "2                          NaN           Paul Dutton   pauldutton1968  \n",
       "3                    Australia          Fi McLeod SC       FiMcLeodSC  \n",
       "4                     THE MOON  Gaby Skittles friend       GABchaag10  "
      ]
     },
     "execution_count": 4,
     "metadata": {},
     "output_type": "execute_result"
    }
   ],
   "source": [
    "db = pd.read_csv('../social_listening1/original_tweets.csv', lineterminator='\\n')\n",
    "db.head()"
   ]
  },
  {
   "cell_type": "code",
   "execution_count": 5,
   "metadata": {
    "collapsed": true
   },
   "outputs": [],
   "source": [
    "text = db['full_text']"
   ]
  },
  {
   "cell_type": "code",
   "execution_count": 9,
   "metadata": {
    "collapsed": true
   },
   "outputs": [],
   "source": [
    "samples = np.random.choice(np.arange(1, text.shape[0]), 50000, replace=False)"
   ]
  },
  {
   "cell_type": "code",
   "execution_count": 10,
   "metadata": {
    "collapsed": true
   },
   "outputs": [],
   "source": [
    "documents = text.take(samples).values"
   ]
  },
  {
   "cell_type": "code",
   "execution_count": 11,
   "metadata": {
    "collapsed": true
   },
   "outputs": [],
   "source": [
    "for i in range(len(documents)):\n",
    "    documents[i] = documents[i].replace('\\n', ' ') \n",
    "    documents[i] = documents[i].replace('\\r', ' ') "
   ]
  },
  {
   "cell_type": "markdown",
   "metadata": {},
   "source": [
    "## Universal Sentence Encoder embeddings"
   ]
  },
  {
   "cell_type": "code",
   "execution_count": 29,
   "metadata": {
    "collapsed": true
   },
   "outputs": [],
   "source": [
    "embed = hub.Module(module_url)\n",
    "with tf.Session() as session:\n",
    "    session.run([tf.global_variables_initializer(), tf.tables_initializer()])\n",
    "    embeddings = session.run(embed(documents))"
   ]
  },
  {
   "cell_type": "code",
   "execution_count": 31,
   "metadata": {
    "collapsed": true
   },
   "outputs": [],
   "source": [
    "np.savetxt(\"embeds.tsv\", embeddings, delimiter=\"\\t\")"
   ]
  },
  {
   "cell_type": "code",
   "execution_count": 59,
   "metadata": {
    "collapsed": true
   },
   "outputs": [],
   "source": [
    "np.savetxt(\"tweets.tsv\", documents, fmt=\"%s\")"
   ]
  },
  {
   "cell_type": "code",
   "execution_count": 60,
   "metadata": {
    "collapsed": false
   },
   "outputs": [
    {
     "data": {
      "text/plain": [
       "(50000,)"
      ]
     },
     "execution_count": 60,
     "metadata": {},
     "output_type": "execute_result"
    }
   ],
   "source": [
    "documents.shape"
   ]
  },
  {
   "cell_type": "code",
   "execution_count": 61,
   "metadata": {
    "collapsed": false
   },
   "outputs": [
    {
     "data": {
      "text/plain": [
       "50000"
      ]
     },
     "execution_count": 61,
     "metadata": {},
     "output_type": "execute_result"
    }
   ],
   "source": [
    "i = 0\n",
    "with open('tweets.tsv', 'r') as f:\n",
    "    for l in f.readlines():\n",
    "        i += 1\n",
    "i"
   ]
  },
  {
   "cell_type": "markdown",
   "metadata": {},
   "source": [
    "## Sentiment Analysis"
   ]
  },
  {
   "cell_type": "code",
   "execution_count": 15,
   "metadata": {
    "collapsed": false
   },
   "outputs": [
    {
     "name": "stdout",
     "output_type": "stream",
     "text": [
      "{'positive': 17698, 'neutral': 8923, 'negative': 23379}\n"
     ]
    }
   ],
   "source": [
    "import nltk \n",
    "import pandas as pd \n",
    "import string\n",
    "\n",
    "from nltk.sentiment.vader import SentimentIntensityAnalyzer\n",
    "\n",
    "messages = documents\n",
    "sid = SentimentIntensityAnalyzer()\n",
    "\n",
    "summary = {\"positive\":0,\"neutral\":0,\"negative\":0}\n",
    "for x in messages: \n",
    "    ss = sid.polarity_scores(x)\n",
    "    if ss[\"compound\"] == 0.0: \n",
    "        summary[\"neutral\"] +=1\n",
    "    elif ss[\"compound\"] > 0.0:\n",
    "        summary[\"positive\"] +=1\n",
    "    else:\n",
    "        summary[\"negative\"] +=1\n",
    "print(summary)"
   ]
  },
  {
   "cell_type": "code",
   "execution_count": 13,
   "metadata": {
    "collapsed": false
   },
   "outputs": [
    {
     "name": "stdout",
     "output_type": "stream",
     "text": [
      "[nltk_data] Downloading package vader_lexicon to\n",
      "[nltk_data]     /home/ubuntu/nltk_data...\n"
     ]
    },
    {
     "data": {
      "text/plain": [
       "True"
      ]
     },
     "execution_count": 13,
     "metadata": {},
     "output_type": "execute_result"
    }
   ],
   "source": [
    "import nltk\n",
    "nltk.download('vader_lexicon')"
   ]
  },
  {
   "cell_type": "code",
   "execution_count": null,
   "metadata": {
    "collapsed": true
   },
   "outputs": [],
   "source": []
  }
 ],
 "metadata": {
  "anaconda-cloud": {},
  "kernelspec": {
   "display_name": "Python [MLKart]",
   "language": "python",
   "name": "Python [MLKart]"
  },
  "language_info": {
   "codemirror_mode": {
    "name": "ipython",
    "version": 3
   },
   "file_extension": ".py",
   "mimetype": "text/x-python",
   "name": "python",
   "nbconvert_exporter": "python",
   "pygments_lexer": "ipython3",
   "version": "3.6.1"
  }
 },
 "nbformat": 4,
 "nbformat_minor": 2
}
