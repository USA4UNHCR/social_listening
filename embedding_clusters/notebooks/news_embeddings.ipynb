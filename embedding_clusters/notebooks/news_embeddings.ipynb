{
 "cells": [
  {
   "cell_type": "code",
   "execution_count": 22,
   "metadata": {
    "collapsed": false
   },
   "outputs": [],
   "source": [
    "import tensorflow as tf\n",
    "import tensorflow_hub as hub\n",
    "import matplotlib.pyplot as plt\n",
    "import numpy as np\n",
    "import os\n",
    "import pandas as pd\n",
    "import re\n",
    "import seaborn as sns"
   ]
  },
  {
   "cell_type": "code",
   "execution_count": 3,
   "metadata": {
    "collapsed": true
   },
   "outputs": [],
   "source": [
    "module_url = \"https://tfhub.dev/google/universal-sentence-encoder/2\"\n",
    "tf.logging.set_verbosity(tf.logging.ERROR)\n",
    "np.random.seed(6)"
   ]
  },
  {
   "cell_type": "code",
   "execution_count": 39,
   "metadata": {
    "collapsed": true
   },
   "outputs": [],
   "source": [
    "def open_csvs(paths):\n",
    "    final = pd.read_csv(paths[0], lineterminator='\\n')\n",
    "    final['source'] = re.findall(r\".*/(.*)\\.csv\", paths[0])[0]\n",
    "    for i in range(1, len(paths)):\n",
    "        tmp = pd.read_csv(paths[i], lineterminator='\\n')\n",
    "        tmp['source'] = re.findall(r\".*/(.*)\\.csv\", paths[i])[0]\n",
    "        final = pd.concat([final, tmp], axis=0, ignore_index=True)\n",
    "    del tmp\n",
    "    final = final.drop(labels='Unnamed: 0', axis=1)\n",
    "    return final"
   ]
  },
  {
   "cell_type": "code",
   "execution_count": 40,
   "metadata": {
    "collapsed": false
   },
   "outputs": [],
   "source": [
    "paths = ['clean-news-data/wapo.csv', 'clean-news-data/chicago.csv', 'clean-news-data/fox.csv', 'clean-news-data/breitbart.csv']\n",
    "data = open_csvs(paths)"
   ]
  },
  {
   "cell_type": "code",
   "execution_count": 43,
   "metadata": {
    "collapsed": false
   },
   "outputs": [
    {
     "data": {
      "text/html": [
       "<div>\n",
       "<style>\n",
       "    .dataframe thead tr:only-child th {\n",
       "        text-align: right;\n",
       "    }\n",
       "\n",
       "    .dataframe thead th {\n",
       "        text-align: left;\n",
       "    }\n",
       "\n",
       "    .dataframe tbody tr th {\n",
       "        vertical-align: top;\n",
       "    }\n",
       "</style>\n",
       "<table border=\"1\" class=\"dataframe\">\n",
       "  <thead>\n",
       "    <tr style=\"text-align: right;\">\n",
       "      <th></th>\n",
       "      <th>source</th>\n",
       "      <th>text</th>\n",
       "      <th>title</th>\n",
       "      <th>url</th>\n",
       "    </tr>\n",
       "  </thead>\n",
       "  <tbody>\n",
       "    <tr>\n",
       "      <th>0</th>\n",
       "      <td>wapo</td>\n",
       "      <td>Eric Reid appeared to be one of the most relia...</td>\n",
       "      <td>NFL players’ union files grievance against Ben...</td>\n",
       "      <td>https://www.washingtonpost.com/news/sports/wp/...</td>\n",
       "    </tr>\n",
       "    <tr>\n",
       "      <th>1</th>\n",
       "      <td>wapo</td>\n",
       "      <td>Desktop notifications are on   | Turn off Get ...</td>\n",
       "      <td>Business - The Washington Post</td>\n",
       "      <td>https://www.washingtonpost.com/business/</td>\n",
       "    </tr>\n",
       "    <tr>\n",
       "      <th>2</th>\n",
       "      <td>wapo</td>\n",
       "      <td>Perspective  Interpretation of the news based ...</td>\n",
       "      <td>New OPM chief presses for civil service overha...</td>\n",
       "      <td>https://www.washingtonpost.com/news/powerpost/...</td>\n",
       "    </tr>\n",
       "    <tr>\n",
       "      <th>3</th>\n",
       "      <td>wapo</td>\n",
       "      <td>SAN FRANCISCO – Google on Tuesday plans to wad...</td>\n",
       "      <td>At Google, ‘responsibility’ upstages new techn...</td>\n",
       "      <td>https://www.washingtonpost.com/news/the-switch...</td>\n",
       "    </tr>\n",
       "    <tr>\n",
       "      <th>4</th>\n",
       "      <td>wapo</td>\n",
       "      <td>Stand-up comics, famously, do not like heckler...</td>\n",
       "      <td>A woman had a seizure at Ken Jeong’s comedy sh...</td>\n",
       "      <td>https://www.washingtonpost.com/news/arts-and-e...</td>\n",
       "    </tr>\n",
       "  </tbody>\n",
       "</table>\n",
       "</div>"
      ],
      "text/plain": [
       "  source                                               text  \\\n",
       "0   wapo  Eric Reid appeared to be one of the most relia...   \n",
       "1   wapo  Desktop notifications are on   | Turn off Get ...   \n",
       "2   wapo  Perspective  Interpretation of the news based ...   \n",
       "3   wapo  SAN FRANCISCO – Google on Tuesday plans to wad...   \n",
       "4   wapo  Stand-up comics, famously, do not like heckler...   \n",
       "\n",
       "                                               title  \\\n",
       "0  NFL players’ union files grievance against Ben...   \n",
       "1                     Business - The Washington Post   \n",
       "2  New OPM chief presses for civil service overha...   \n",
       "3  At Google, ‘responsibility’ upstages new techn...   \n",
       "4  A woman had a seizure at Ken Jeong’s comedy sh...   \n",
       "\n",
       "                                                 url  \n",
       "0  https://www.washingtonpost.com/news/sports/wp/...  \n",
       "1           https://www.washingtonpost.com/business/  \n",
       "2  https://www.washingtonpost.com/news/powerpost/...  \n",
       "3  https://www.washingtonpost.com/news/the-switch...  \n",
       "4  https://www.washingtonpost.com/news/arts-and-e...  "
      ]
     },
     "execution_count": 43,
     "metadata": {},
     "output_type": "execute_result"
    }
   ],
   "source": [
    "data.head()"
   ]
  },
  {
   "cell_type": "code",
   "execution_count": 51,
   "metadata": {
    "collapsed": true
   },
   "outputs": [],
   "source": [
    "text = data['text']"
   ]
  },
  {
   "cell_type": "code",
   "execution_count": 53,
   "metadata": {
    "collapsed": false
   },
   "outputs": [
    {
     "data": {
      "text/plain": [
       "array(['Eric Reid appeared to be one of the most reliable defensive backs on this year’s NFL free agent market, at least on paper. But he’s still looking for a job, and his continued unemployment has prompted a second grievance filed against the NFL. The NFL Players Association filed a noninjury grievance related to Reid’s free agency Monday, the union said in a statement. It marks the union’s most formal defense yet for players who have protested\\xa0racial injustice and police brutality during the playing of the national anthem. The grievance is related to questions the safety has been asked about his plans to continue kneeling during the anthem next season. “According to our information, a club appears to have based its decision not to sign a player based on the player’s statement that he would challenge the implementation of a club’s policy prohibiting demonstration, which is contrary to League policy,” the NFLPA said in a statement. The grievance is connected to Reid’s only known free agency visit this offseason, when the Cincinnati Bengals reportedly asked him last month whether he intended to continue protesting, according to a person familiar with the filing. While the Bengals might have made clear that they expect all of their players to stand for the anthem, the union’s grievance says\\xa0teams are operating outside of league rules, which do not require players to stand. “We believe these questions are improper, given League policy,” the NFLPA said in its statement. A spokesman for the Bengals declined to comment on the grievance. [Eric Reid charges NFL owners with collusion in grievance] In addition, the NFLPA filed a system arbitration case on behalf of all players, which aims\\xa0to stop clubs from asking any player whether he intends to protest during the national anthem. Reid had filed his own grievance Wednesday, charging owners with colluding to keep him out of the league. Reid has been among the most prominent players to protest by taking a knee during the national anthem. He’s said from the earliest days of free agency, which began in March, that teams won’t sign him because of his social activism, even though he’s said he’s willing to stand during the anthem next season. Both grievances are now subject to a confidential arbitration process under terms of the collective bargaining agreement between NFL owners and the players’ union. The NFLPA was not a formal party to Reid’s initial complaint, but has been supportive of the player’s decision, according to a person familiar with the situation, offering legal counsel and resources. “Our union supports Eric and we are considering other legal options to pursue,” a spokesman said in a statement last week. [NFL owners could leave national anthem policy to individual teams] Reid was the second player to charge the NFL owners with collusion over the anthem protests, and he’s using the same legal team as quarterback Colin Kaepernick, who remained unsigned all of last season. “Colin and Eric have taken courageous action at the expense of their professional careers and personal lives,” their attorneys, Mark Geragos and Ben Meiselas, said in a statement Monday. “They did these selfless acts because they wanted to shine light on inequity and oppression. Today they welcome all NFL Players who have joined in the prosecution of the NFL for their conspiracy and illegal acts. We stand shoulder to shoulder with the NFLPA in our fight for justice, equality and inalienable rights of all Americans.” Even without Kaepernick in the league, Reid continued the protests last year, repeatedly explaining that his protest targeted “systemic oppression.” Reid, 26, was a first-round draft pick by the San Francisco 49ers in 2013, made the Pro Bowl that year and has tallied 10 career interceptions in five seasons. More NFL coverage from The Post: As NFL mulls anthem change, Texans owner says fields aren’t ‘place for political statements’ A Tennessee gubernatorial candidate’s political football? Titans season tickets. Trump, Bill Belichick and the New England Patriots: A timeline Jerry Brewer:\\xa0The Redskins of Daniel Snyder and Bruce Allen exhibit the worst qualities of privilege',\n",
       "       'Desktop notifications are on \\xa0 | Turn off Get breaking news alerts from  The Washington Post Turn on desktop notifications? Also, his views on a trade war with China and why he loves Apple There are 75,000 DNA tests on the market. Now what? A senior administration official said Democrats should recognize that much of the package represents untapped accounts. Iranians are already worried that their economy could take a major hit business   The Finance 202 Get analysis on financial and financial-services policy, plus a news roundup, delivered to your inbox every weekday. post_newsletter389  false endOfArticle false   Please provide a valid email address. One major issue that can cause friction in a marriage is when one spouse wants to retire and the other doesn’t. Under a $38.6 million contract, companies will have to prove that they can launch and recover jet-powered drones form the air. A point of tension has arisen between the safety-obsessed agency and the maverick company run by the billionaire Tesla founder. The saga involving two downtown stations continues with a dispute over the placement of a temporary cooling tower. The reversal in strategy is unusual for the real estate industry. One employee complained to her union representative, but was told “she needed to speak English because she was living in the United States.” The Trump administration pressed China to reduce its trade deficit with the United States by $200 billion by 2020. Mount Pleasant residents worry the chain would threaten small businesses and invite more big-name stores to the area. Here is a list of the most memorable moments. Nearly half of the Eastern Shore’s crab houses have no workers to pick the meat sold in restaurants and supermarkets. \"As a precaution, consider changing your password on all services where you’ve used this password,” Twitter said. Last month, Amazon Prime announced it hit 100 million members -- and then it hiked its subscription price. Privacy watchdogs worry the service could expose users to the worst of the Web — scams, malicious strangers and other problems Facebook already has its hands full with. The larger lesson of the scandal that brought down one of President Trump’s campaign vendors is that politics and data are now inextricably linked — with or without Cambridge Analytica in the picture. business     Success! Check your inbox for details. Please enter a valid email address You might also like:    See all newsletters',\n",
       "       'Perspective  Interpretation of the news based on evidence, including data, as well as anticipating how events might unfold based on past events The vigor that newly installed Office of Personnel Management Director Jeff Pon has for civil service reform makes the Trump administration’s lack of enthusiasm for federal workplace diversity and inclusion all the more stark. “We want to be bold and aggressive, and we want to make sure that not only is it good for America but it’s also good for our civil service,” Pon said about civil service reform in a monologue to reporters Tuesday. It was a monologue because reporters were not allowed to ask questions during the conference call or follow up on the questions they submitted in advance, the bulk of which Pon didn’t answer. There’s nothing wrong with being a stenographer in a courtroom, but Pon’s refusal to take questions left journalists in the role of glorified dictation takers. Talk of overhauling the federal civil service has been around for decades, with outside experts offering well-considered studies and suggestions. No matter how needed aspects of reform might be, given the hiring freeze Trump implemented shortly after taking office, the pay freeze and compensation cuts the administration has proposed, and repeated Republican attempts to fire feds faster, federal employees can be excused if they view this administration’s push for civil service reform with trepidation. [Mulvaney defends pay freeze even for feds he knows are underpaid] Yet Pon is determined to have a proposal done by the midterm elections, an ambitious goal even if everyone agreed, which is hardly the case. Unfortunately, the passion he has for changing the way federal employees are managed — hired, compensated, promoted, fired and retired — far exceeds the administration’s diluted desire to have the workforce look like the public it serves. That was demonstrated by the two most recent OPM strategic plans — one from the Obama administration and the latest issued by the OPM in February, shortly before Pon took office. They could hardly differ more regarding diversity and inclusion in the federal workforce. The 2014-2018 Strategic Plan issued by the Obama administration makes diversity and inclusion a high priority. For example, the first of five strategic goals under the Obama plan is “attract and engage a diverse and effective OPM workforce.” The Trump plan for 2018-2022 scarcely mentions diversity and inclusion, providing only lip service. Look at the “Summary of Goals and Objectives” on Page 8 of the Trump document. It lists four goals with no mention of diversity and inclusion. In flow-chart fashion, the goals are supported by 14 objectives. None mentions diversity or inclusion. The words “diverse” or “diversity” are mentioned only four times in the 22-page document, compared with 20 times in the Obama administration’s 33 pages. “We find this strategy of omission alarming,” said Wanda V. Killingsworth, president of Federally Employed Women, “and hope that as positions are being filled in the federal government — particularly high-ranking offices — the Trump administration will place emphasis on diversity and inclusion.” While the administration’s retreat from diversity as a top priority can’t be pinned on Pon, he seems happy to represent an administration that gives diversity and inclusion advocates good reason to shudder. He did not respond to questions for this column, but in response to Sen. Kamala D. Harris (D-Calif.) during his October nomination hearing, Pon said he had not read Obama’s Executive Order 13583, “Establishing a Coordinated Government-wide Initiative to Promote Diversity and Inclusion in the Federal Workforce.” In written responses submitted after the hearing, Pon told Harris that agencies “should actively recruit from all segments of society and provide broad leadership development opportunities to build their pipelines for future leaders” and promised “to build upon the goals identified” in Obama’s order. “It is my understanding, based on the last data OPM posted to its website, that minorities as a whole are no longer under-represented across the Federal workforce,” his written response said, “although their representation lags somewhat in SES positions.” “Somewhat” is an understatement for women, who are 35.3 percent of the Senior Executive Service. On the surface, it seems the data belie his understanding. The federal workforce was 8.4 percent Hispanic, according to the OPM’s Federal Equal Opportunity Recruitment Program report for fiscal 2014, which was the document available in October. The fiscal 2016 report issued this February shows a slight increase, to 8.6 percent. In both fiscal years, the percentage of Hispanics in the civilian labor force was about 15 percent, making it seem that they are vastly underrepresented. On this point, however, Pon was not far off. The civilian labor force includes noncitizens. But citizenship is required for most federal jobs. Hispanic citizens are only about 10 percent of the civilian labor force, meaning their representation in the federal workforce is low, but not as low as it initially appears. Nonetheless, the lack of energy for diversity exhibited by the Trump administration worries proponents. “It is troubling that there appears to be a de-emphasis on diversity and inclusion under the Trump administration,” said Gilbert Sandate, chair of the Coalition for Fairness for Hispanics in Government, by email. “As the agency responsible for spearheading the federal government’s D&I policies and programs, it shows an absence of strong leadership and investment in this important area. We urge Director Pon to reevaluate OPM’s strategic direction regarding diversity and inclusion, or lack thereof, and amend this important policy document to ensure that D&I remains a strong component in the federal government’s toolbox.” Read more: Trump administration plans major overhaul of civil service system, but no specifics yet Latest federal diversity report from OPM shows little or no progress and some regression',\n",
       "       ...,\n",
       "       'UNITED NATIONS — US Ambassador Nikki Haley on Monday urged the United Nations Security Council to act following the latest alleged chemical weapons attack in Syria, warning the United States was ready to respond. TEHRAN –\\xa0Iranian President Hassan Rouhani said Monday that the United States would regret withdrawing from the nuclear deal, and that Iran would respond in “less than a week” if that happened. President Trump has once again come out in defense of his embattled Environmental Protection Agency administrator Scott Pruitt. The White House on Thursday called on Palestinians to engage in solely peaceful protests and stay at least 500 meters from Gaza’s border with Israel, on the eve of fresh demonstrations supported by Gaza’s Hamas terrorist rulers along the border. TEL AVIV – A Kuwaiti government daily published an article slamming the “March of the Return” in Gaza as a “provocative” protest designed to trigger violence by “terrorist” group Hamas, which uses women and children as human shields. The article also praised President Donald Trump’s decision to recognize Jerusalem as Israel’s capital and move the U.S. embassy as being “courageous and correct.” President Donald Trump backed Environmental Protection Agency (EPA) Administrator Pruitt amid a number of leftist attacks against the agency chief. RIYADH –\\xa0 Saudi King Salman reaffirmed support for Palestinians to US President Donald Trump, state media said Tuesday, after his son and heir apparent said Israel has a “right” to a homeland. President Trump is winning at the Environmental Protection Agency (EPA). There can be no better proof of this than the latest anguished editorial in the New York Times, lamenting the changes made by EPA administrator Scott Pruitt. President Donald Trump issued a proclamation in honor of Education and Sharing Day, marking the anniversary of the birth of the last Lubavitcher rebbe, Rabbi Menachem Mendel Schneerson. RICHFIELD, Ohio — US President Donald Trump insisted Thursday that US forces would pull out of Syria “very soon” and lamented what he said was Washington’s waste of $7 trillion in Middle East wars. Fewer and fewer Republicans and Independents believe that ‘climate change’ is a credible threat; more and more Democrats do. ‘Global warming’, it is becoming increasingly clear, is a political issue and not a scientific one. Former Vice President Joe Biden backed down from a fight with President Donald Trump, clarifying that he never meant to challenge the president to a physical fight. A Thursday night interview with former Playboy playmate Karen McDougal alleging an affair with President Trump could not lift CNN out of last place in the ratings. Dubai – Bahraini authorities on Sunday announced they would be taking “severe measures” to track down dissidents who use social media, as the Gulf monarchy tightens its grip on political opposition. TEHRAN, Iran — Iran has called the appointment of the former U.N. Ambassador John Bolton to the role of National Security Adviser of the United States “a shame.” Rep. Tom Suozzi (D-NY) reportedly took time during a Huntington, New York, speech to suggest that people should take up arms against President Trump. WASHINGTON — Saudi Arabia’s crown prince Mohammed bin Salman is set to meet with US President Donald Trump in Washington on Tuesday. Palestinian groups in the West Bank and Gaza are urging mass protests Friday to mark 100 days since US President Donald Trump announced his decision to recognize Jerusalem as Israel’s capital. Former Pink Floyd singer Roger Waters has joined Palestinian performers Trio Joubran to record a song attacking Donald Trump’s decision to recognize Jerusalem as the capital of Israel and move the U.S. embasssy from Tel Aviv accordingly. US President Donald Trump’s peace plan is nearly finished and the White House intends to present to the proposal soon, The New York Times reported Sunday. John McEntee, President Donald Trump’s personal assistant, has exited the White House and returned to the Trump 2020 campaign operation. Larry Kudlow is in the lead to win the top job as the top White House economics adviser,\\xa0Donald Trump indicated Tuesday. US President Donald Trump is expected to present his peace plan to resolve the Israeli-Palestinian conflict soon, The New York Times reported Monday, citing three Trump administration officials. President Donald Trump met with the 2017 World Series Champions Houston Astros on Monday, but he also welcomed heroes who helped Houston in the wake of Hurricane Harvey to the White House. Prime Minister Benjamin Netanyahu reportedly told cabinet ministers on Sunday that there is still no “concrete” US peace plan. Top Israeli and Saudi Arabian officials reportedly held a series of secret meetings in Cairo last week, ahead of US President Donald Trump’s expected unveiling of his long-awaited Middle East peace plan. President Donald Trump has started to make the American economy great again with tough trade policies. Yet, Gary Cohn, the president’s chief economist has obstructed that agenda at every opportunity. The State Department is considering an offer from billionaire casino mogul Sheldon Adelson to help pay a new embassy in Jerusalem after moving from Tel Aviv. President Donald Trump defended the National Rifle Association (NRA), as the left and the mainstream media blamed the gun rights organization for mass shootings. WASHINGTON — US President Donald Trump’s Middle East peace team briefed members of the UN Security Council on their plan to jumpstart negotiations between Israel and the Palestinians on Tuesday. The FBI has dedicated an untold number of resources to an investigation based on the infamous, 35-page largely discredited anti-Trump dossier alleging unsubstantiated collusion with Russia and claiming without any evidence that Donald Trump engaged in sordid sexual acts caught on video. Former Massachusetts governor and 2012 Republican presidential candidate Mitt Romney announced on Friday his bid to run for the open U.S. Senate seat in Utah. KUALA LUMPUR, Malaysia — Malaysia on Thursday defended the decision to allow a high-level Israeli delegation to attend a UN conference in Kuala Lumpur after the move sparked widespread anger in the Muslim-majority country. TEL AVIV — In recognizing Israel’s right to Jerusalem and correcting the antagonistic, anti-Israel ideology and actions of his predecessor, President Trump has already proven himself to be one of the greatest friends that Israel ever had in the White House. Still, Even the closest of friends make the occasional blunder. TEL AVIV — Cody Shearer, a shadowy former tabloid journalist who has long been closely associated with various Clinton scandals, has been traveling across Europe for more than six months in an alleged effort to secure purported evidence of compromising material possessed by the Russians related to President Donald Trump, according to a new report. The Palestinians hope Russia will play a more significant role in the peace process between themselves and Israel, a Palestinian diplomat said on Sunday, a day before Palestinian Authority President Mahmoud Abbas and Russian President Vladimir Putin are slated to meet in Russia. WASHINGTON — President Donald Trump on Thursday thanked the president of Guatemala for supporting the U.S. decision to move its embassy in Israel to Jerusalem, the White House said. Israel will forego its plans to become a pioneer medical marijuana exporter for fear of upsetting US President Donald Trump, Channel 2 News reported Wednesday evening. The only individual in the United States convicted over his involvement in the 9/11 attacks has filed a lawsuit against President Donald Trump over claims he is experiencing “psychological torture” while kept in solitary confinement. TEL AVIV — Last week’s release of a four-page House Intelligence Committee memo alleging abuse of surveillance authority provides details that raise new questions about Sen. John McCain’s role in delivering the infamous, largely discredited 35-page dossier on President Donald Trump and Russia to the U.S. intelligence community under Barack Obama’s administration. An event marking Israel’s 70th year will be held at US President Donald Trump’s Mar-a-Lago Club in Palm Beach, Florida. The event scheduled for late March is organized by the International Fellowship of Christians and Jews, which is selling tickets for $1,000 per table, Haaretz reported. TEL AVIV — The four-page House Intelligence Committee memo alleging abuse of surveillance authority raises immediate questions about the specific role of former FBI Director James Comey in utilizing the infamous, largely discredited 35-page anti-Trump dossier in fueling an investigation into unsubstantiated claims of collusion between Russia and Donald Trump’s presidential campaign. TEHRAN – Iran’s oil minister lashed out at the United States on Sunday, saying that hostile comments by President Donald Trump had torpedoed new oil and gas contracts for the Islamic republic. TEL AVIV — The Trump administration is weighing the option of presenting a Middle East so-called peace plan even if the Palestinian Authority refuses to come to the bargaining table, according to unnamed U.S. officials cited in a report. Palestinian Authority President Mahmoud Abbas will address the United Nations Security Council on Feb. 20 during its monthly meeting on the Middle East amid continuing Palestinian rejection of direct talks with Israel, as well as the US role in brokering future negotiations.',\n",
       "       'In a segment that aired on Thursday’s broadcast of ABC’s “World News Tonight,” Sen. Lindsey Graham (R-SC) warned if he and his colleagues were not able to get tax cut legislation passed and\\xa0on the president’s desk, there would be consequences The president will meet with House Speaker Paul Ryan, Senate Majority Leader Mitch McConnell, House Minority Leader Nancy Pelosi, and Senate Minority Leader Chuck Schumer on Tuesday at the White House. Last week, the US House of Representatives passed the most sweeping tax reform plan we have seen in decades. As with everything in politics, the policy nuts and bolts were a series of trade-offs. Bernie Marcus, the co-founder of Job Creators Network and the retired co-founder of The Home Depot, writes in an op-ed in the Hill that the Republican tax bill will provide small businesses with much-needed relief. If the proposal to end the state and local tax deduction (SALT) remains in the final bill when it is passed, it could trigger a political revolution in the liberal coastal “blue” states. Henry Olsen, author of The Working Class Republican: Ronald Reagan and the Return of Blue-Collar Conservatism, discussed the similarities between the Reagan and Trump coalitions with SiriusXM host Alex Marlow on Tuesday’s Breitbart News Daily. Alfredo Ortiz, the president and CEO of the Job Creators Network, defends President Trump’s tax cut framework from critics who seek to discredit it by comparing the Republican federal tax cut effort to Kansas state’s 2012 tax cuts. The co-founder of home improvement giant Home Depot is warning the Republican Party to pass tax reform or face losing Congress in the 2018 elections. Evangelical Bishop Aubrey Shines, head pastor at Tampa, Florida’s Glory to Glory Church, is calling on Congress to pass pro-small business tax cuts. What is with all the fake news coming out of NBC News these days? I mean, above and beyond the fake news that has always been part and parcel of NBC’s leftwing bias. President Donald Trump announced the framework of his tax plan Wednesday afternoon, boasting that it would restore the American dream for working families. WASHINGTON, D.C. — Tea Party Patriots held a Capitol Hill rally on Saturday calling on legislators to keep the promises that they made to the American people on issues like repealing Obamacare, enforcing the border and immigration laws and cutting taxes. Congressman Dave Brat (R-VA) criticized Karl Rove for taking up what he called “fiction writing” in an op-ed for the Wall Street Journal where the political strategist suggested the 30 uber-conservative members of the House Freedom Caucus would hold up a critical tax reform vote. Illegal aliens protected by an Obama-created temporary amnesty program are receiving job opportunities at a higher rate than unemployed Americans, a report by the Economist reveals. A potential plan by President Trump’s administration to trade amnesty for nearly 800,000 illegal aliens for tax cuts “is the ultimate bad deal-making,” Kansas Secretary of State Kris Kobach told Breitbart News exclusively Tuesday evening. The fate of Gary Cohn is a big topic at New York’s biggest Wall Street conference Tuesday. That’s hardly surprising. Top earners will not see their tax bill fall under the tax plan being worked out by Trump administration and lawmakers, Treasury Secretary Steve Mnuchin said Tuesday. Donald Trump revealed more details of Republican plans to overhaul the U.S. tax system in a North Dakota speech Wednesday. President Donald Trump delivered a speech in North Dakota on Wednesday, urging Congress forward on tax reform. White House Chief Strategist Steve Bannon is reportedly upending traditional right/left divides on tax policy and pushing for a populist tax reform. Reportedly wants the top rate to have a 4 in front of the top rate. The conventional wisdom in the media, and even among many conservatives, is that President Donald Trump’s tweets are frustrating his policy agenda. But the opposite is true: his most controversial tweets are helping him. WASHINGTON, D.C. — On Tuesday evening, President Donald Trump will host a handful of Republican congressional leaders at the White House for a dinner centered around the President’s first trip abroad. He will also preside over\\xa0an afternoon bicameral Republican leadership The only parts of it that aren’t merely misleading are those riddled with errors and falsehoods. There is a simple reason Republicans lost the budget battle: they were willing to accept almost any deal, and Democrats knew it. President Donald Trump’s promises to cut taxes, increase infrastructure spending, and reduce regulatory burdens on businesses have boosted optimism of everyone from CEOs to small businesses to consumers, sent the financial markets soaring, and boosted job creation. President Donald Trump delivered a dynamic speech to a joint session of Congress, urging lawmakers and Americans to pursue an agenda focused on restoring the American dream, justice, and the rule of law. Tim Lee, senior vice president of Legal and Public Affairs for Center for Individual Freedom, joined Breitbart News Daily SiriusXM host Alex Marlow broadcasting from CPAC on Thursday to discuss the Trump presidency, tax policy, and the Dakota Access Pipeline, among other topics. Veteran financial journalist John Carney made his debut appearance as a Breitbart News commentator on Thursday’s edition of Breitbart News Daily to discuss the historic rise of the Dow Jones average above 20,000 points. In an apparent attempt at winning back the hearts of conservative voters, the Republican representatives are making cuts in their proposed budget for next year. Those cuts include cutting Obamacare and IRS tax credits for the children of illegal aliens. Texas Governor Greg Abbott will make his ninth and last stop in Houston, Texas, on Tuesday as part of his statewide Grassroots Tour. The Governor will discuss the successes of the 2015 legislative session. The event is free. A new report released by the libertarian Cato Institute finds that among the eight governors who are GOP candidates for president, only Gov. Bobby Jindal of Louisiana has cut spending in his state. Republican presidential candidate Donald Trump stated that on taxes he supports, simplifying the tax code and wants to “reduce taxes” on Tuesday’s broadcast of the Fox News Channel’s “Fox & Friends.” Although, he later added on CNN’s “New Day” that',\n",
       "       \"Dan Mendelson, president of Avalere Health, said, “Consumers are always looking for a new low-cost health insurance option\\xa0but migration of healthy people to a new product will ultimately take a toll on what is presently being sold in the market.” AHPs are health insurance pools sponsored by an industry, trade, or professional association that provides health coverage to their members. President Trump signed an executive order in October that\\xa0expanded AHPs, as well as short-term limited-duration insurance plans to offer Americans more affordable options\\xa0compared to Obamacare. “This will cost the United States government virtually nothing and will provide people great, great health care,” Trump said in October. Avalere found that by 2022, one million Americans would move out of the Obamacare individual market to join AHPs, and 2.2 million people would drop out of the small-group market to join an AHP as well. The study also revealed that Americans would experience drastically lower health premiums through AHPs compared to Obamacare. AHPs would be roughly $2,900 lower per year compared to the small-group market and $9,700 lower per year compared to the individual market. Avalere cites that the lower average premiums in AHPs mostly result from a healthier insurance pool due to “risk selection,” and less generous offerings. Chris Sloan, senior manager at Avalere, explained, “The proposed rule would lead to millions of individuals and small businesses shifting into a new form of coverage, likely reducing their premiums, but leading to higher premiums in the markets they leave behind.” President Trump argued\\xa0last week that, “Piece by piece by piece, Obamacare is being wiped out!” Sen. Rand Paul (R-KY) praised the action last October as “the biggest free-market reform of health care in a generation.” Big Government, Obamacare, Congress, Donald Trump, obamacare, Rand Paul, Senate, White House Comment count on this article reflects comments made on Breitbart.com and Facebook. Visit Breitbart's Facebook Page.\"],\n",
       "      dtype=object)"
      ]
     },
     "execution_count": 53,
     "metadata": {},
     "output_type": "execute_result"
    }
   ],
   "source": [
    "text.values"
   ]
  },
  {
   "cell_type": "code",
   "execution_count": 54,
   "metadata": {
    "collapsed": true
   },
   "outputs": [],
   "source": [
    "documents = text.values"
   ]
  },
  {
   "cell_type": "code",
   "execution_count": 80,
   "metadata": {
    "collapsed": false
   },
   "outputs": [],
   "source": [
    "skip = []\n",
    "for i in range(len(documents)):\n",
    "    try:\n",
    "        documents[i] = documents[i].replace('\\n', ' ') \n",
    "        documents[i] = documents[i].replace('\\r', ' ') \n",
    "        if documents[i] == np.nan:\n",
    "            skip.append(i)\n",
    "    except:\n",
    "        skip.append(i)\n",
    "docs = np.delete(documents, skip, axis=0)"
   ]
  },
  {
   "cell_type": "markdown",
   "metadata": {},
   "source": [
    "## Universal Sentence Encoder embeddings"
   ]
  },
  {
   "cell_type": "code",
   "execution_count": 81,
   "metadata": {
    "collapsed": false
   },
   "outputs": [
    {
     "name": "stderr",
     "output_type": "stream",
     "text": [
      "Exception ignored in: <bound method BaseSession.__del__ of <tensorflow.python.client.session.Session object at 0x1229f4278>>\n",
      "Traceback (most recent call last):\n",
      "  File \"/Users/alexchan/anaconda3/envs/MLKart/lib/python3.6/site-packages/tensorflow/python/client/session.py\", line 707, in __del__\n",
      "    tf_session.TF_DeleteSession(self._session)\n",
      "KeyboardInterrupt: \n"
     ]
    }
   ],
   "source": [
    "embed = hub.Module(module_url)\n",
    "with tf.Session() as session:\n",
    "    session.run([tf.global_variables_initializer(), tf.tables_initializer()])\n",
    "    embeddings = session.run(embed(docs))"
   ]
  },
  {
   "cell_type": "code",
   "execution_count": 66,
   "metadata": {
    "collapsed": true
   },
   "outputs": [],
   "source": [
    "np.savetxt(\"news_embeds.tsv\", embeddings, delimiter=\"\\t\")"
   ]
  },
  {
   "cell_type": "code",
   "execution_count": 68,
   "metadata": {
    "collapsed": false
   },
   "outputs": [],
   "source": [
    "titles = data['title']\n",
    "titles = titles.values\n",
    "titles = np.delete(titles, skip, axis=0)\n",
    "np.savetxt(\"news_titles.tsv\", titles, fmt='%s')"
   ]
  },
  {
   "cell_type": "code",
   "execution_count": 70,
   "metadata": {
    "collapsed": false
   },
   "outputs": [],
   "source": [
    "source = data['source']\n",
    "source = source.values\n",
    "source = np.delete(source, skip, axis=0)\n",
    "np.savetxt(\"news_source.tsv\", source, fmt='%s')"
   ]
  },
  {
   "cell_type": "code",
   "execution_count": 71,
   "metadata": {
    "collapsed": false
   },
   "outputs": [
    {
     "data": {
      "text/plain": [
       "(20006,)"
      ]
     },
     "execution_count": 71,
     "metadata": {},
     "output_type": "execute_result"
    }
   ],
   "source": [
    "documents.shape"
   ]
  },
  {
   "cell_type": "markdown",
   "metadata": {},
   "source": [
    "## LDA"
   ]
  },
  {
   "cell_type": "code",
   "execution_count": 82,
   "metadata": {
    "collapsed": true
   },
   "outputs": [],
   "source": [
    "import csv\n",
    "import pandas as pd\n",
    "import numpy as np\n",
    "from sklearn.feature_extraction.text import CountVectorizer, TfidfVectorizer\n",
    "from sklearn.decomposition import LatentDirichletAllocation, NMF\n",
    "from nltk.corpus import stopwords \n",
    "from nltk.stem import PorterStemmer\n",
    "from nltk.tokenize import sent_tokenize, word_tokenize"
   ]
  },
  {
   "cell_type": "code",
   "execution_count": 83,
   "metadata": {
    "collapsed": true
   },
   "outputs": [],
   "source": [
    "def preprocess(sent):\n",
    "    string = ''\n",
    "    for word in sent.split(' '): \n",
    "        word = word.lower()\n",
    "        if word.find('https') == -1 and word.find('amp') == -1:\n",
    "            curr = ps.stem(word)\n",
    "            string += curr + ' '\n",
    "    return string"
   ]
  },
  {
   "cell_type": "code",
   "execution_count": 84,
   "metadata": {
    "collapsed": true
   },
   "outputs": [],
   "source": [
    "ps = PorterStemmer()"
   ]
  },
  {
   "cell_type": "code",
   "execution_count": 87,
   "metadata": {
    "collapsed": false
   },
   "outputs": [],
   "source": [
    "no_features = 1000\n",
    "\n",
    "tfidf_vectorizer = TfidfVectorizer(max_df=0.95, min_df=2, max_features=no_features, stop_words='english', preprocessor=preprocess)\n",
    "tfidf = tfidf_vectorizer.fit_transform(docs)\n",
    "tfidf_feature_names = tfidf_vectorizer.get_feature_names()\n",
    "\n",
    "# LDA can only use raw term counts for LDA because it is a probabilistic graphical model\n",
    "tf_vectorizer = CountVectorizer(max_df=0.95, min_df=2, max_features=no_features, stop_words='english', preprocessor=preprocess)\n",
    "tf = tf_vectorizer.fit_transform(docs)\n",
    "tf_feature_names = tf_vectorizer.get_feature_names()"
   ]
  },
  {
   "cell_type": "code",
   "execution_count": 88,
   "metadata": {
    "collapsed": false
   },
   "outputs": [
    {
     "name": "stderr",
     "output_type": "stream",
     "text": [
      "/Users/alexchan/anaconda3/envs/MLKart/lib/python3.6/site-packages/sklearn/decomposition/online_lda.py:294: DeprecationWarning: n_topics has been renamed to n_components in version 0.19 and will be removed in 0.21\n",
      "  DeprecationWarning)\n"
     ]
    }
   ],
   "source": [
    "no_topics = 20\n",
    "\n",
    "nmf = NMF(n_components=no_topics, random_state=1, alpha=.1, l1_ratio=.5, init='nndsvd').fit(tfidf)\n",
    "\n",
    "lda = LatentDirichletAllocation(n_topics=no_topics, max_iter=5, learning_method='online', learning_offset=50.,random_state=0).fit(tf)"
   ]
  },
  {
   "cell_type": "code",
   "execution_count": 89,
   "metadata": {
    "collapsed": false
   },
   "outputs": [
    {
     "name": "stdout",
     "output_type": "stream",
     "text": [
      "Topic 0:\n",
      "wa like thi don just know peopl want think make\n",
      "Topic 1:\n",
      "click video sign help comment post florida watch featur car\n",
      "Topic 2:\n",
      "trump presid donald white hi hous president said obama ha\n",
      "Topic 3:\n",
      "breitbart facebook comment com articl page count reflect visit thi\n",
      "Topic 4:\n",
      "percent compani said ha data year million market new health\n",
      "Topic 5:\n",
      "iran nuclear deal iranian agreement saudi weapon obama program syria\n",
      "Topic 6:\n",
      "fox news podcast host radio hour com free everi chri\n",
      "Topic 7:\n",
      "wa hi polic said report sexual year old offic told\n",
      "Topic 8:\n",
      "desktop turn alert break washington post news newslett pleas check\n",
      "Topic 9:\n",
      "game team season hi play player coach nfl draft win\n",
      "Topic 10:\n",
      "clinton fbi comey hillari investig depart mueller email justic russia\n",
      "Topic 11:\n",
      "china korea north chines kim trade korean south war state\n",
      "Topic 12:\n",
      "chicago post free book recent add limit park 00 offer\n",
      "Topic 13:\n",
      "climat ice research scientist carbon sea ocean studi warm water\n",
      "Topic 14:\n",
      "school student gun teacher univers educ colleg shoot high control\n",
      "Topic 15:\n",
      "democrat republican senat vote elect state parti sen candid gop\n",
      "Topic 16:\n",
      "immigr border illeg migrant alien immigration law legal mexico agent\n",
      "Topic 17:\n",
      "pruitt epa environment agenc administr scott feder protect offici energi\n",
      "Topic 18:\n",
      "israel palestinian jerusalem isra syria islam minist attack militari prime\n",
      "Topic 19:\n",
      "tax cut pay incom budget busi reform percent plan gop\n"
     ]
    }
   ],
   "source": [
    "def display_topics(model, feature_names, no_top_words):\n",
    "    for topic_idx, topic in enumerate(model.components_):\n",
    "        print(\"Topic %d:\" % (topic_idx))\n",
    "        print(\" \".join([feature_names[i]\n",
    "                        for i in topic.argsort()[:-no_top_words - 1:-1]]))\n",
    "\n",
    "no_top_words = 10\n",
    "display_topics(nmf, tfidf_feature_names, no_top_words)"
   ]
  },
  {
   "cell_type": "code",
   "execution_count": 90,
   "metadata": {
    "collapsed": false
   },
   "outputs": [
    {
     "name": "stdout",
     "output_type": "stream",
     "text": [
      "Topic 0:\n",
      "school tax student pay program educ health cut plan fund\n",
      "Topic 1:\n",
      "trump presid hi donald white wa hous news said ha\n",
      "Topic 2:\n",
      "thi wa think peopl know becaus like just don say\n",
      "Topic 3:\n",
      "compani ha said use tech data facebook new user thi\n",
      "Topic 4:\n",
      "team hi player nfl draft season coach sport return round\n",
      "Topic 5:\n",
      "turn email washington post check desktop break pleas news alert\n",
      "Topic 6:\n",
      "ha gun immigr american nation support govern group union illeg\n",
      "Topic 7:\n",
      "wa hi said thi like just ha time make want\n",
      "Topic 8:\n",
      "research climat thi said studi ha chang sea new scientist\n",
      "Topic 9:\n",
      "iran china israel trump presid deal nuclear state north said\n",
      "Topic 10:\n",
      "wa hi said year old told ha day man new\n",
      "Topic 11:\n",
      "said state feder depart administr ha court law wa obama\n",
      "Topic 12:\n",
      "energi oil food water ga carbon use thi make clean\n",
      "Topic 13:\n",
      "percent year 000 million new ha rate price thi american\n",
      "Topic 14:\n",
      "news fox post host video free report sign thi 2018\n",
      "Topic 15:\n",
      "republican democrat senat trump vote state clinton elect sen hous\n",
      "Topic 16:\n",
      "women black thi children men like live life peopl white\n",
      "Topic 17:\n",
      "breitbart facebook comment com thi page articl visit count reflect\n",
      "Topic 18:\n",
      "game play win chicago thi season second ha team point\n",
      "Topic 19:\n",
      "polic border state attack report arrest offic law illeg kill\n"
     ]
    }
   ],
   "source": [
    "display_topics(lda, tf_feature_names, no_top_words)"
   ]
  },
  {
   "cell_type": "markdown",
   "metadata": {},
   "source": [
    "## Sentiment Analysis"
   ]
  },
  {
   "cell_type": "code",
   "execution_count": null,
   "metadata": {
    "collapsed": false
   },
   "outputs": [],
   "source": [
    "import nltk \n",
    "import pandas as pd \n",
    "import string\n",
    "\n",
    "from nltk.sentiment.vader import SentimentIntensityAnalyzer\n",
    "\n",
    "messages = documents\n",
    "sid = SentimentIntensityAnalyzer()\n",
    "\n",
    "summary = {\"positive\":0,\"neutral\":0,\"negative\":0}\n",
    "for x in messages: \n",
    "    ss = sid.polarity_scores(x)\n",
    "    if ss[\"compound\"] == 0.0: \n",
    "        summary[\"neutral\"] +=1\n",
    "    elif ss[\"compound\"] > 0.0:\n",
    "        summary[\"positive\"] +=1\n",
    "    else:\n",
    "        summary[\"negative\"] +=1\n",
    "print(summary)"
   ]
  },
  {
   "cell_type": "code",
   "execution_count": null,
   "metadata": {
    "collapsed": false
   },
   "outputs": [],
   "source": [
    "import nltk\n",
    "nltk.download('vader_lexicon')"
   ]
  },
  {
   "cell_type": "code",
   "execution_count": null,
   "metadata": {
    "collapsed": true
   },
   "outputs": [],
   "source": []
  }
 ],
 "metadata": {
  "anaconda-cloud": {},
  "kernelspec": {
   "display_name": "Python [MLKart]",
   "language": "python",
   "name": "Python [MLKart]"
  },
  "language_info": {
   "codemirror_mode": {
    "name": "ipython",
    "version": 3
   },
   "file_extension": ".py",
   "mimetype": "text/x-python",
   "name": "python",
   "nbconvert_exporter": "python",
   "pygments_lexer": "ipython3",
   "version": "3.6.1"
  }
 },
 "nbformat": 4,
 "nbformat_minor": 2
}
