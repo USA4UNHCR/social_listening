{
 "cells": [
  {
   "cell_type": "code",
   "execution_count": 62,
   "metadata": {
    "ExecuteTime": {
     "end_time": "2018-11-03T22:55:40.289896Z",
     "start_time": "2018-11-03T22:55:40.286327Z"
    }
   },
   "outputs": [],
   "source": [
    "import pandas as pd\n",
    "import numpy as np\n",
    "import matplotlib.pyplot as plt\n",
    "import seaborn as sns\n",
    "import datetime\n",
    "\n",
    "sns.set()\n",
    "np.random.seed(42)"
   ]
  },
  {
   "cell_type": "markdown",
   "metadata": {},
   "source": [
    "# Loading data"
   ]
  },
  {
   "cell_type": "code",
   "execution_count": 63,
   "metadata": {
    "ExecuteTime": {
     "end_time": "2018-11-03T22:55:47.676518Z",
     "start_time": "2018-11-03T22:55:40.962784Z"
    }
   },
   "outputs": [
    {
     "name": "stdout",
     "output_type": "stream",
     "text": [
      "(1011563, 15)\n"
     ]
    },
    {
     "data": {
      "text/html": [
       "<div>\n",
       "<style scoped>\n",
       "    .dataframe tbody tr th:only-of-type {\n",
       "        vertical-align: middle;\n",
       "    }\n",
       "\n",
       "    .dataframe tbody tr th {\n",
       "        vertical-align: top;\n",
       "    }\n",
       "\n",
       "    .dataframe thead th {\n",
       "        text-align: right;\n",
       "    }\n",
       "</style>\n",
       "<table border=\"1\" class=\"dataframe\">\n",
       "  <thead>\n",
       "    <tr style=\"text-align: right;\">\n",
       "      <th></th>\n",
       "      <th>_id</th>\n",
       "      <th>created_at</th>\n",
       "      <th>favorite_count</th>\n",
       "      <th>full_text</th>\n",
       "      <th>retweet_count</th>\n",
       "      <th>u4u_dataset</th>\n",
       "      <th>user.created_at</th>\n",
       "      <th>user.description</th>\n",
       "      <th>user.followers_count</th>\n",
       "      <th>user.friends_count</th>\n",
       "      <th>user.lang</th>\n",
       "      <th>user.listed_count</th>\n",
       "      <th>user.location</th>\n",
       "      <th>user.name</th>\n",
       "      <th>user.screen_name</th>\n",
       "    </tr>\n",
       "  </thead>\n",
       "  <tbody>\n",
       "    <tr>\n",
       "      <th>0</th>\n",
       "      <td>5bd86c7968a761d62501fda2</td>\n",
       "      <td>Sun Sep 23 15:01:52 +0000 2018</td>\n",
       "      <td>1</td>\n",
       "      <td>2016\\nRemember when #PeterDutton was found gui...</td>\n",
       "      <td>0</td>\n",
       "      <td>asylumseeker</td>\n",
       "      <td>Wed Oct 02 00:18:21 +0000 2013</td>\n",
       "      <td>This page is sharing information about the Lib...</td>\n",
       "      <td>6490</td>\n",
       "      <td>5435</td>\n",
       "      <td>en</td>\n",
       "      <td>261</td>\n",
       "      <td>Western Australia</td>\n",
       "      <td>TALAOLP</td>\n",
       "      <td>Talaolp</td>\n",
       "    </tr>\n",
       "    <tr>\n",
       "      <th>1</th>\n",
       "      <td>5bd86c7968a761d62501fda5</td>\n",
       "      <td>Sun Sep 23 11:09:04 +0000 2018</td>\n",
       "      <td>1</td>\n",
       "      <td>This pains me, but it's time to compromise on ...</td>\n",
       "      <td>1</td>\n",
       "      <td>asylumseeker</td>\n",
       "      <td>Sat Nov 28 02:34:51 +0000 2009</td>\n",
       "      <td>big fan of irreverent  political commentary, c...</td>\n",
       "      <td>1966</td>\n",
       "      <td>3281</td>\n",
       "      <td>en</td>\n",
       "      <td>125</td>\n",
       "      <td>country Victoria, Australia</td>\n",
       "      <td>eithne</td>\n",
       "      <td>eithne52</td>\n",
       "    </tr>\n",
       "    <tr>\n",
       "      <th>2</th>\n",
       "      <td>5bd86c7968a761d62501fda9</td>\n",
       "      <td>Sun Sep 23 02:01:55 +0000 2018</td>\n",
       "      <td>7</td>\n",
       "      <td>What about all his other well paid jobs! He ha...</td>\n",
       "      <td>2</td>\n",
       "      <td>asylumseeker</td>\n",
       "      <td>Mon Oct 22 07:25:28 +0000 2012</td>\n",
       "      <td>#Wiimpitja - black fella #BarkindjiNation #Kal...</td>\n",
       "      <td>8583</td>\n",
       "      <td>5514</td>\n",
       "      <td>en</td>\n",
       "      <td>358</td>\n",
       "      <td>NaN</td>\n",
       "      <td>Paul Dutton</td>\n",
       "      <td>pauldutton1968</td>\n",
       "    </tr>\n",
       "    <tr>\n",
       "      <th>3</th>\n",
       "      <td>5bd86c7968a761d62501fdab</td>\n",
       "      <td>Sun Sep 23 00:47:55 +0000 2018</td>\n",
       "      <td>2</td>\n",
       "      <td>A must read analysis of policy paralysis on as...</td>\n",
       "      <td>2</td>\n",
       "      <td>asylumseeker</td>\n",
       "      <td>Sat Aug 03 03:08:39 +0000 2013</td>\n",
       "      <td>Senior Counsel, AWL Woman Lawyer of the Year, ...</td>\n",
       "      <td>5019</td>\n",
       "      <td>932</td>\n",
       "      <td>en</td>\n",
       "      <td>85</td>\n",
       "      <td>Australia</td>\n",
       "      <td>Fi McLeod SC</td>\n",
       "      <td>FiMcLeodSC</td>\n",
       "    </tr>\n",
       "    <tr>\n",
       "      <th>4</th>\n",
       "      <td>5bd86c7968a761d62501fdaf</td>\n",
       "      <td>Sat Sep 22 02:49:45 +0000 2018</td>\n",
       "      <td>0</td>\n",
       "      <td>\"@halyapuff: #Ukrainian prosecutor general adm...</td>\n",
       "      <td>0</td>\n",
       "      <td>asylumseeker</td>\n",
       "      <td>Fri Feb 04 22:40:35 +0000 2011</td>\n",
       "      <td>NaN</td>\n",
       "      <td>2097</td>\n",
       "      <td>1853</td>\n",
       "      <td>en</td>\n",
       "      <td>83</td>\n",
       "      <td>THE MOON</td>\n",
       "      <td>Gaby Skittles friend</td>\n",
       "      <td>GABchaag10</td>\n",
       "    </tr>\n",
       "  </tbody>\n",
       "</table>\n",
       "</div>"
      ],
      "text/plain": [
       "                        _id                      created_at  favorite_count  \\\n",
       "0  5bd86c7968a761d62501fda2  Sun Sep 23 15:01:52 +0000 2018               1   \n",
       "1  5bd86c7968a761d62501fda5  Sun Sep 23 11:09:04 +0000 2018               1   \n",
       "2  5bd86c7968a761d62501fda9  Sun Sep 23 02:01:55 +0000 2018               7   \n",
       "3  5bd86c7968a761d62501fdab  Sun Sep 23 00:47:55 +0000 2018               2   \n",
       "4  5bd86c7968a761d62501fdaf  Sat Sep 22 02:49:45 +0000 2018               0   \n",
       "\n",
       "                                           full_text  retweet_count  \\\n",
       "0  2016\\nRemember when #PeterDutton was found gui...              0   \n",
       "1  This pains me, but it's time to compromise on ...              1   \n",
       "2  What about all his other well paid jobs! He ha...              2   \n",
       "3  A must read analysis of policy paralysis on as...              2   \n",
       "4  \"@halyapuff: #Ukrainian prosecutor general adm...              0   \n",
       "\n",
       "    u4u_dataset                 user.created_at  \\\n",
       "0  asylumseeker  Wed Oct 02 00:18:21 +0000 2013   \n",
       "1  asylumseeker  Sat Nov 28 02:34:51 +0000 2009   \n",
       "2  asylumseeker  Mon Oct 22 07:25:28 +0000 2012   \n",
       "3  asylumseeker  Sat Aug 03 03:08:39 +0000 2013   \n",
       "4  asylumseeker  Fri Feb 04 22:40:35 +0000 2011   \n",
       "\n",
       "                                    user.description  user.followers_count  \\\n",
       "0  This page is sharing information about the Lib...                  6490   \n",
       "1  big fan of irreverent  political commentary, c...                  1966   \n",
       "2  #Wiimpitja - black fella #BarkindjiNation #Kal...                  8583   \n",
       "3  Senior Counsel, AWL Woman Lawyer of the Year, ...                  5019   \n",
       "4                                                NaN                  2097   \n",
       "\n",
       "   user.friends_count user.lang  user.listed_count  \\\n",
       "0                5435        en                261   \n",
       "1                3281        en                125   \n",
       "2                5514        en                358   \n",
       "3                 932        en                 85   \n",
       "4                1853        en                 83   \n",
       "\n",
       "                 user.location             user.name user.screen_name  \n",
       "0            Western Australia               TALAOLP          Talaolp  \n",
       "1  country Victoria, Australia                eithne         eithne52  \n",
       "2                          NaN           Paul Dutton   pauldutton1968  \n",
       "3                    Australia          Fi McLeod SC       FiMcLeodSC  \n",
       "4                     THE MOON  Gaby Skittles friend       GABchaag10  "
      ]
     },
     "execution_count": 63,
     "metadata": {},
     "output_type": "execute_result"
    }
   ],
   "source": [
    "tweets = pd.read_csv('social_listening1/original_tweets.csv', lineterminator='\\n')\n",
    "print(tweets.shape)\n",
    "tweets.head()"
   ]
  },
  {
   "cell_type": "code",
   "execution_count": 64,
   "metadata": {
    "ExecuteTime": {
     "end_time": "2018-11-03T22:55:48.317748Z",
     "start_time": "2018-11-03T22:55:47.678313Z"
    }
   },
   "outputs": [
    {
     "data": {
      "text/plain": [
       "_id                          0\n",
       "created_at                   0\n",
       "favorite_count               0\n",
       "full_text                    0\n",
       "retweet_count                0\n",
       "u4u_dataset                  0\n",
       "user.created_at              0\n",
       "user.description        151934\n",
       "user.followers_count         0\n",
       "user.friends_count           0\n",
       "user.lang                    0\n",
       "user.listed_count            0\n",
       "user.location           279866\n",
       "user.name                   81\n",
       "user.screen_name             0\n",
       "dtype: int64"
      ]
     },
     "execution_count": 64,
     "metadata": {},
     "output_type": "execute_result"
    }
   ],
   "source": [
    "# check for all missing values\n",
    "tweets.isnull().sum()"
   ]
  },
  {
   "cell_type": "code",
   "execution_count": 65,
   "metadata": {
    "ExecuteTime": {
     "end_time": "2018-11-03T22:55:52.063626Z",
     "start_time": "2018-11-03T22:55:48.319231Z"
    }
   },
   "outputs": [],
   "source": [
    "tweets['created_at'] = pd.to_datetime(tweets['created_at'], format='%a %b %d %H:%M:%S +0000 %Y')"
   ]
  },
  {
   "cell_type": "code",
   "execution_count": 66,
   "metadata": {
    "ExecuteTime": {
     "end_time": "2018-11-03T22:55:52.410878Z",
     "start_time": "2018-11-03T22:55:52.065713Z"
    }
   },
   "outputs": [
    {
     "name": "stdout",
     "output_type": "stream",
     "text": [
      "(35052, 25)\n"
     ]
    },
    {
     "data": {
      "text/html": [
       "<div>\n",
       "<style scoped>\n",
       "    .dataframe tbody tr th:only-of-type {\n",
       "        vertical-align: middle;\n",
       "    }\n",
       "\n",
       "    .dataframe tbody tr th {\n",
       "        vertical-align: top;\n",
       "    }\n",
       "\n",
       "    .dataframe thead th {\n",
       "        text-align: right;\n",
       "    }\n",
       "</style>\n",
       "<table border=\"1\" class=\"dataframe\">\n",
       "  <thead>\n",
       "    <tr style=\"text-align: right;\">\n",
       "      <th></th>\n",
       "      <th>_id</th>\n",
       "      <th>created_at</th>\n",
       "      <th>entities.media.type</th>\n",
       "      <th>favorite_count</th>\n",
       "      <th>full_text</th>\n",
       "      <th>place.bounding_box.type</th>\n",
       "      <th>place.country</th>\n",
       "      <th>place.country_code</th>\n",
       "      <th>place.full_name</th>\n",
       "      <th>place.id</th>\n",
       "      <th>...</th>\n",
       "      <th>user.created_at</th>\n",
       "      <th>user.description</th>\n",
       "      <th>user.followers_count</th>\n",
       "      <th>user.friends_count</th>\n",
       "      <th>user.lang</th>\n",
       "      <th>user.listed_count</th>\n",
       "      <th>user.location</th>\n",
       "      <th>user.name</th>\n",
       "      <th>user.screen_name</th>\n",
       "      <th>coordinates</th>\n",
       "    </tr>\n",
       "  </thead>\n",
       "  <tbody>\n",
       "    <tr>\n",
       "      <th>0</th>\n",
       "      <td>5bd86c7968a761d62501fda9</td>\n",
       "      <td>Sun Sep 23 02:01:55 +0000 2018</td>\n",
       "      <td>NaN</td>\n",
       "      <td>7</td>\n",
       "      <td>What about all his other well paid jobs! He ha...</td>\n",
       "      <td>Polygon</td>\n",
       "      <td>Australia</td>\n",
       "      <td>AU</td>\n",
       "      <td>Grafton, New South Wales</td>\n",
       "      <td>00de891a25d97b58</td>\n",
       "      <td>...</td>\n",
       "      <td>Mon Oct 22 07:25:28 +0000 2012</td>\n",
       "      <td>#Wiimpitja - black fella #BarkindjiNation #Kal...</td>\n",
       "      <td>8583</td>\n",
       "      <td>5514</td>\n",
       "      <td>en</td>\n",
       "      <td>358</td>\n",
       "      <td>NaN</td>\n",
       "      <td>Paul Dutton</td>\n",
       "      <td>pauldutton1968</td>\n",
       "      <td>[[152.889490016, -29.7611804625], [152.9670013...</td>\n",
       "    </tr>\n",
       "    <tr>\n",
       "      <th>1</th>\n",
       "      <td>5bd86c7968a761d62501fe2e</td>\n",
       "      <td>Sun Sep 23 22:00:37 +0000 2018</td>\n",
       "      <td>NaN</td>\n",
       "      <td>1</td>\n",
       "      <td>@SarfarazZoe @unhcr No it doesn't and I fully ...</td>\n",
       "      <td>Polygon</td>\n",
       "      <td>Australia</td>\n",
       "      <td>AU</td>\n",
       "      <td>Gold Coast, Queensland</td>\n",
       "      <td>017453ae077eafd3</td>\n",
       "      <td>...</td>\n",
       "      <td>Tue Sep 24 04:00:01 +0000 2013</td>\n",
       "      <td>To see a world in a grain of sand and a heaven...</td>\n",
       "      <td>3704</td>\n",
       "      <td>1779</td>\n",
       "      <td>en</td>\n",
       "      <td>321</td>\n",
       "      <td>NaN</td>\n",
       "      <td>Anne Carlin - Digital Idiot</td>\n",
       "      <td>sacarlin48</td>\n",
       "      <td>[[153.186551712, -28.2003171475], [153.5521712...</td>\n",
       "    </tr>\n",
       "    <tr>\n",
       "      <th>2</th>\n",
       "      <td>5bd86c7968a761d62501fe40</td>\n",
       "      <td>Sun Sep 23 16:21:57 +0000 2018</td>\n",
       "      <td>NaN</td>\n",
       "      <td>0</td>\n",
       "      <td>Generally migration and specially forced migra...</td>\n",
       "      <td>Polygon</td>\n",
       "      <td>Turkey</td>\n",
       "      <td>TR</td>\n",
       "      <td>Yenimahalle, Türkiye</td>\n",
       "      <td>6e9cef2a932796f9</td>\n",
       "      <td>...</td>\n",
       "      <td>Fri Nov 20 18:01:30 +0000 2009</td>\n",
       "      <td>Dr.(Ph.D.),Gazi/AHBV Üniversitesi Uluslararası...</td>\n",
       "      <td>159</td>\n",
       "      <td>6</td>\n",
       "      <td>tr</td>\n",
       "      <td>2</td>\n",
       "      <td>Gerze/Sinop, Ankara</td>\n",
       "      <td>Murat Saraçlı</td>\n",
       "      <td>murat_srcl</td>\n",
       "      <td>[[32.6433269, 39.9104357], [32.8461069, 39.910...</td>\n",
       "    </tr>\n",
       "    <tr>\n",
       "      <th>3</th>\n",
       "      <td>5bd86c7968a761d62501fe4c</td>\n",
       "      <td>Sun Sep 23 02:01:55 +0000 2018</td>\n",
       "      <td>NaN</td>\n",
       "      <td>7</td>\n",
       "      <td>What about all his other well paid jobs! He ha...</td>\n",
       "      <td>Polygon</td>\n",
       "      <td>Australia</td>\n",
       "      <td>AU</td>\n",
       "      <td>Grafton, New South Wales</td>\n",
       "      <td>00de891a25d97b58</td>\n",
       "      <td>...</td>\n",
       "      <td>Mon Oct 22 07:25:28 +0000 2012</td>\n",
       "      <td>#Wiimpitja - black fella #BarkindjiNation #Kal...</td>\n",
       "      <td>8642</td>\n",
       "      <td>5531</td>\n",
       "      <td>en</td>\n",
       "      <td>358</td>\n",
       "      <td>NaN</td>\n",
       "      <td>Paul Dutton</td>\n",
       "      <td>pauldutton1968</td>\n",
       "      <td>[[152.889490016, -29.7611804625], [152.9670013...</td>\n",
       "    </tr>\n",
       "    <tr>\n",
       "      <th>4</th>\n",
       "      <td>5bd86c7968a761d62501fe9d</td>\n",
       "      <td>Sat Oct 13 22:15:17 +0000 2018</td>\n",
       "      <td>NaN</td>\n",
       "      <td>4</td>\n",
       "      <td>@InsidersABC @DavidMarrTweets @swrightwestoz S...</td>\n",
       "      <td>Polygon</td>\n",
       "      <td>Australia</td>\n",
       "      <td>AU</td>\n",
       "      <td>Sydney, New South Wales</td>\n",
       "      <td>0073b76548e5984f</td>\n",
       "      <td>...</td>\n",
       "      <td>Sat Jun 21 06:51:37 +0000 2014</td>\n",
       "      <td>Cynic from the inner-west. Sometimes writes ab...</td>\n",
       "      <td>1304</td>\n",
       "      <td>1330</td>\n",
       "      <td>en</td>\n",
       "      <td>52</td>\n",
       "      <td>Sydney, Australia</td>\n",
       "      <td>Joanna Mendelssohn</td>\n",
       "      <td>oldlillipilli</td>\n",
       "      <td>[[150.520928608, -34.1183470085], [151.3430209...</td>\n",
       "    </tr>\n",
       "  </tbody>\n",
       "</table>\n",
       "<p>5 rows × 25 columns</p>\n",
       "</div>"
      ],
      "text/plain": [
       "                        _id                      created_at  \\\n",
       "0  5bd86c7968a761d62501fda9  Sun Sep 23 02:01:55 +0000 2018   \n",
       "1  5bd86c7968a761d62501fe2e  Sun Sep 23 22:00:37 +0000 2018   \n",
       "2  5bd86c7968a761d62501fe40  Sun Sep 23 16:21:57 +0000 2018   \n",
       "3  5bd86c7968a761d62501fe4c  Sun Sep 23 02:01:55 +0000 2018   \n",
       "4  5bd86c7968a761d62501fe9d  Sat Oct 13 22:15:17 +0000 2018   \n",
       "\n",
       "  entities.media.type  favorite_count  \\\n",
       "0                 NaN               7   \n",
       "1                 NaN               1   \n",
       "2                 NaN               0   \n",
       "3                 NaN               7   \n",
       "4                 NaN               4   \n",
       "\n",
       "                                           full_text place.bounding_box.type  \\\n",
       "0  What about all his other well paid jobs! He ha...                 Polygon   \n",
       "1  @SarfarazZoe @unhcr No it doesn't and I fully ...                 Polygon   \n",
       "2  Generally migration and specially forced migra...                 Polygon   \n",
       "3  What about all his other well paid jobs! He ha...                 Polygon   \n",
       "4  @InsidersABC @DavidMarrTweets @swrightwestoz S...                 Polygon   \n",
       "\n",
       "  place.country place.country_code           place.full_name  \\\n",
       "0     Australia                 AU  Grafton, New South Wales   \n",
       "1     Australia                 AU    Gold Coast, Queensland   \n",
       "2        Turkey                 TR      Yenimahalle, Türkiye   \n",
       "3     Australia                 AU  Grafton, New South Wales   \n",
       "4     Australia                 AU   Sydney, New South Wales   \n",
       "\n",
       "           place.id                        ...                          \\\n",
       "0  00de891a25d97b58                        ...                           \n",
       "1  017453ae077eafd3                        ...                           \n",
       "2  6e9cef2a932796f9                        ...                           \n",
       "3  00de891a25d97b58                        ...                           \n",
       "4  0073b76548e5984f                        ...                           \n",
       "\n",
       "                  user.created_at  \\\n",
       "0  Mon Oct 22 07:25:28 +0000 2012   \n",
       "1  Tue Sep 24 04:00:01 +0000 2013   \n",
       "2  Fri Nov 20 18:01:30 +0000 2009   \n",
       "3  Mon Oct 22 07:25:28 +0000 2012   \n",
       "4  Sat Jun 21 06:51:37 +0000 2014   \n",
       "\n",
       "                                    user.description user.followers_count  \\\n",
       "0  #Wiimpitja - black fella #BarkindjiNation #Kal...                 8583   \n",
       "1  To see a world in a grain of sand and a heaven...                 3704   \n",
       "2  Dr.(Ph.D.),Gazi/AHBV Üniversitesi Uluslararası...                  159   \n",
       "3  #Wiimpitja - black fella #BarkindjiNation #Kal...                 8642   \n",
       "4  Cynic from the inner-west. Sometimes writes ab...                 1304   \n",
       "\n",
       "   user.friends_count user.lang user.listed_count         user.location  \\\n",
       "0                5514        en               358                   NaN   \n",
       "1                1779        en               321                   NaN   \n",
       "2                   6        tr                 2   Gerze/Sinop, Ankara   \n",
       "3                5531        en               358                   NaN   \n",
       "4                1330        en                52     Sydney, Australia   \n",
       "\n",
       "                     user.name  user.screen_name  \\\n",
       "0                  Paul Dutton    pauldutton1968   \n",
       "1  Anne Carlin - Digital Idiot        sacarlin48   \n",
       "2                Murat Saraçlı        murat_srcl   \n",
       "3                  Paul Dutton    pauldutton1968   \n",
       "4           Joanna Mendelssohn     oldlillipilli   \n",
       "\n",
       "                                         coordinates  \n",
       "0  [[152.889490016, -29.7611804625], [152.9670013...  \n",
       "1  [[153.186551712, -28.2003171475], [153.5521712...  \n",
       "2  [[32.6433269, 39.9104357], [32.8461069, 39.910...  \n",
       "3  [[152.889490016, -29.7611804625], [152.9670013...  \n",
       "4  [[150.520928608, -34.1183470085], [151.3430209...  \n",
       "\n",
       "[5 rows x 25 columns]"
      ]
     },
     "execution_count": 66,
     "metadata": {},
     "output_type": "execute_result"
    }
   ],
   "source": [
    "locations = pd.read_csv('social_listening1/location_tweets.csv', lineterminator='\\n')\n",
    "print(locations.shape)\n",
    "locations.head()"
   ]
  },
  {
   "cell_type": "code",
   "execution_count": 67,
   "metadata": {
    "ExecuteTime": {
     "end_time": "2018-11-03T22:55:53.334381Z",
     "start_time": "2018-11-03T22:55:52.412771Z"
    }
   },
   "outputs": [
    {
     "name": "stdout",
     "output_type": "stream",
     "text": [
      "(35052, 25)\n"
     ]
    },
    {
     "data": {
      "text/html": [
       "<div>\n",
       "<style scoped>\n",
       "    .dataframe tbody tr th:only-of-type {\n",
       "        vertical-align: middle;\n",
       "    }\n",
       "\n",
       "    .dataframe tbody tr th {\n",
       "        vertical-align: top;\n",
       "    }\n",
       "\n",
       "    .dataframe thead th {\n",
       "        text-align: right;\n",
       "    }\n",
       "</style>\n",
       "<table border=\"1\" class=\"dataframe\">\n",
       "  <thead>\n",
       "    <tr style=\"text-align: right;\">\n",
       "      <th></th>\n",
       "      <th>_id</th>\n",
       "      <th>created_at</th>\n",
       "      <th>favorite_count</th>\n",
       "      <th>full_text</th>\n",
       "      <th>retweet_count</th>\n",
       "      <th>u4u_dataset</th>\n",
       "      <th>user.created_at</th>\n",
       "      <th>user.description</th>\n",
       "      <th>user.followers_count</th>\n",
       "      <th>user.friends_count</th>\n",
       "      <th>...</th>\n",
       "      <th>coordinates</th>\n",
       "      <th>entities.media.type</th>\n",
       "      <th>place.bounding_box.type</th>\n",
       "      <th>place.country</th>\n",
       "      <th>place.country_code</th>\n",
       "      <th>place.full_name</th>\n",
       "      <th>place.id</th>\n",
       "      <th>place.name</th>\n",
       "      <th>place.place_type</th>\n",
       "      <th>place.url</th>\n",
       "    </tr>\n",
       "  </thead>\n",
       "  <tbody>\n",
       "    <tr>\n",
       "      <th>0</th>\n",
       "      <td>5bd86c7968a761d62501fda9</td>\n",
       "      <td>2018-09-23 02:01:55</td>\n",
       "      <td>7</td>\n",
       "      <td>What about all his other well paid jobs! He ha...</td>\n",
       "      <td>2</td>\n",
       "      <td>asylumseeker</td>\n",
       "      <td>Mon Oct 22 07:25:28 +0000 2012</td>\n",
       "      <td>#Wiimpitja - black fella #BarkindjiNation #Kal...</td>\n",
       "      <td>8583</td>\n",
       "      <td>5514</td>\n",
       "      <td>...</td>\n",
       "      <td>[[152.889490016, -29.7611804625], [152.9670013...</td>\n",
       "      <td>NaN</td>\n",
       "      <td>Polygon</td>\n",
       "      <td>Australia</td>\n",
       "      <td>AU</td>\n",
       "      <td>Grafton, New South Wales</td>\n",
       "      <td>00de891a25d97b58</td>\n",
       "      <td>Grafton</td>\n",
       "      <td>city</td>\n",
       "      <td>https://api.twitter.com/1.1/geo/id/00de891a25d...</td>\n",
       "    </tr>\n",
       "    <tr>\n",
       "      <th>1</th>\n",
       "      <td>5bd86c7968a761d62501fe2e</td>\n",
       "      <td>2018-09-23 22:00:37</td>\n",
       "      <td>1</td>\n",
       "      <td>@SarfarazZoe @unhcr No it doesn't and I fully ...</td>\n",
       "      <td>0</td>\n",
       "      <td>asylumseeker</td>\n",
       "      <td>Tue Sep 24 04:00:01 +0000 2013</td>\n",
       "      <td>To see a world in a grain of sand and a heaven...</td>\n",
       "      <td>3704</td>\n",
       "      <td>1779</td>\n",
       "      <td>...</td>\n",
       "      <td>[[153.186551712, -28.2003171475], [153.5521712...</td>\n",
       "      <td>NaN</td>\n",
       "      <td>Polygon</td>\n",
       "      <td>Australia</td>\n",
       "      <td>AU</td>\n",
       "      <td>Gold Coast, Queensland</td>\n",
       "      <td>017453ae077eafd3</td>\n",
       "      <td>Gold Coast</td>\n",
       "      <td>city</td>\n",
       "      <td>https://api.twitter.com/1.1/geo/id/017453ae077...</td>\n",
       "    </tr>\n",
       "    <tr>\n",
       "      <th>2</th>\n",
       "      <td>5bd86c7968a761d62501fe40</td>\n",
       "      <td>2018-09-23 16:21:57</td>\n",
       "      <td>0</td>\n",
       "      <td>Generally migration and specially forced migra...</td>\n",
       "      <td>0</td>\n",
       "      <td>asylumseeker</td>\n",
       "      <td>Fri Nov 20 18:01:30 +0000 2009</td>\n",
       "      <td>Dr.(Ph.D.),Gazi/AHBV Üniversitesi Uluslararası...</td>\n",
       "      <td>159</td>\n",
       "      <td>6</td>\n",
       "      <td>...</td>\n",
       "      <td>[[32.6433269, 39.9104357], [32.8461069, 39.910...</td>\n",
       "      <td>NaN</td>\n",
       "      <td>Polygon</td>\n",
       "      <td>Turkey</td>\n",
       "      <td>TR</td>\n",
       "      <td>Yenimahalle, Türkiye</td>\n",
       "      <td>6e9cef2a932796f9</td>\n",
       "      <td>Yenimahalle</td>\n",
       "      <td>city</td>\n",
       "      <td>https://api.twitter.com/1.1/geo/id/6e9cef2a932...</td>\n",
       "    </tr>\n",
       "    <tr>\n",
       "      <th>3</th>\n",
       "      <td>5bd86c7968a761d62501fe4c</td>\n",
       "      <td>2018-09-23 02:01:55</td>\n",
       "      <td>7</td>\n",
       "      <td>What about all his other well paid jobs! He ha...</td>\n",
       "      <td>2</td>\n",
       "      <td>asylumseeker</td>\n",
       "      <td>Mon Oct 22 07:25:28 +0000 2012</td>\n",
       "      <td>#Wiimpitja - black fella #BarkindjiNation #Kal...</td>\n",
       "      <td>8642</td>\n",
       "      <td>5531</td>\n",
       "      <td>...</td>\n",
       "      <td>[[152.889490016, -29.7611804625], [152.9670013...</td>\n",
       "      <td>NaN</td>\n",
       "      <td>Polygon</td>\n",
       "      <td>Australia</td>\n",
       "      <td>AU</td>\n",
       "      <td>Grafton, New South Wales</td>\n",
       "      <td>00de891a25d97b58</td>\n",
       "      <td>Grafton</td>\n",
       "      <td>city</td>\n",
       "      <td>https://api.twitter.com/1.1/geo/id/00de891a25d...</td>\n",
       "    </tr>\n",
       "    <tr>\n",
       "      <th>4</th>\n",
       "      <td>5bd86c7968a761d62501fe9d</td>\n",
       "      <td>2018-10-13 22:15:17</td>\n",
       "      <td>4</td>\n",
       "      <td>@InsidersABC @DavidMarrTweets @swrightwestoz S...</td>\n",
       "      <td>1</td>\n",
       "      <td>asylumseeker</td>\n",
       "      <td>Sat Jun 21 06:51:37 +0000 2014</td>\n",
       "      <td>Cynic from the inner-west. Sometimes writes ab...</td>\n",
       "      <td>1304</td>\n",
       "      <td>1330</td>\n",
       "      <td>...</td>\n",
       "      <td>[[150.520928608, -34.1183470085], [151.3430209...</td>\n",
       "      <td>NaN</td>\n",
       "      <td>Polygon</td>\n",
       "      <td>Australia</td>\n",
       "      <td>AU</td>\n",
       "      <td>Sydney, New South Wales</td>\n",
       "      <td>0073b76548e5984f</td>\n",
       "      <td>Sydney</td>\n",
       "      <td>city</td>\n",
       "      <td>https://api.twitter.com/1.1/geo/id/0073b76548e...</td>\n",
       "    </tr>\n",
       "  </tbody>\n",
       "</table>\n",
       "<p>5 rows × 25 columns</p>\n",
       "</div>"
      ],
      "text/plain": [
       "                        _id          created_at  favorite_count  \\\n",
       "0  5bd86c7968a761d62501fda9 2018-09-23 02:01:55               7   \n",
       "1  5bd86c7968a761d62501fe2e 2018-09-23 22:00:37               1   \n",
       "2  5bd86c7968a761d62501fe40 2018-09-23 16:21:57               0   \n",
       "3  5bd86c7968a761d62501fe4c 2018-09-23 02:01:55               7   \n",
       "4  5bd86c7968a761d62501fe9d 2018-10-13 22:15:17               4   \n",
       "\n",
       "                                           full_text  retweet_count  \\\n",
       "0  What about all his other well paid jobs! He ha...              2   \n",
       "1  @SarfarazZoe @unhcr No it doesn't and I fully ...              0   \n",
       "2  Generally migration and specially forced migra...              0   \n",
       "3  What about all his other well paid jobs! He ha...              2   \n",
       "4  @InsidersABC @DavidMarrTweets @swrightwestoz S...              1   \n",
       "\n",
       "    u4u_dataset                 user.created_at  \\\n",
       "0  asylumseeker  Mon Oct 22 07:25:28 +0000 2012   \n",
       "1  asylumseeker  Tue Sep 24 04:00:01 +0000 2013   \n",
       "2  asylumseeker  Fri Nov 20 18:01:30 +0000 2009   \n",
       "3  asylumseeker  Mon Oct 22 07:25:28 +0000 2012   \n",
       "4  asylumseeker  Sat Jun 21 06:51:37 +0000 2014   \n",
       "\n",
       "                                    user.description  user.followers_count  \\\n",
       "0  #Wiimpitja - black fella #BarkindjiNation #Kal...                  8583   \n",
       "1  To see a world in a grain of sand and a heaven...                  3704   \n",
       "2  Dr.(Ph.D.),Gazi/AHBV Üniversitesi Uluslararası...                   159   \n",
       "3  #Wiimpitja - black fella #BarkindjiNation #Kal...                  8642   \n",
       "4  Cynic from the inner-west. Sometimes writes ab...                  1304   \n",
       "\n",
       "   user.friends_count                        ...                          \\\n",
       "0                5514                        ...                           \n",
       "1                1779                        ...                           \n",
       "2                   6                        ...                           \n",
       "3                5531                        ...                           \n",
       "4                1330                        ...                           \n",
       "\n",
       "                                         coordinates  entities.media.type  \\\n",
       "0  [[152.889490016, -29.7611804625], [152.9670013...                  NaN   \n",
       "1  [[153.186551712, -28.2003171475], [153.5521712...                  NaN   \n",
       "2  [[32.6433269, 39.9104357], [32.8461069, 39.910...                  NaN   \n",
       "3  [[152.889490016, -29.7611804625], [152.9670013...                  NaN   \n",
       "4  [[150.520928608, -34.1183470085], [151.3430209...                  NaN   \n",
       "\n",
       "  place.bounding_box.type place.country place.country_code  \\\n",
       "0                 Polygon     Australia                 AU   \n",
       "1                 Polygon     Australia                 AU   \n",
       "2                 Polygon        Turkey                 TR   \n",
       "3                 Polygon     Australia                 AU   \n",
       "4                 Polygon     Australia                 AU   \n",
       "\n",
       "            place.full_name          place.id   place.name place.place_type  \\\n",
       "0  Grafton, New South Wales  00de891a25d97b58      Grafton             city   \n",
       "1    Gold Coast, Queensland  017453ae077eafd3   Gold Coast             city   \n",
       "2      Yenimahalle, Türkiye  6e9cef2a932796f9  Yenimahalle             city   \n",
       "3  Grafton, New South Wales  00de891a25d97b58      Grafton             city   \n",
       "4   Sydney, New South Wales  0073b76548e5984f       Sydney             city   \n",
       "\n",
       "                                           place.url  \n",
       "0  https://api.twitter.com/1.1/geo/id/00de891a25d...  \n",
       "1  https://api.twitter.com/1.1/geo/id/017453ae077...  \n",
       "2  https://api.twitter.com/1.1/geo/id/6e9cef2a932...  \n",
       "3  https://api.twitter.com/1.1/geo/id/00de891a25d...  \n",
       "4  https://api.twitter.com/1.1/geo/id/0073b76548e...  \n",
       "\n",
       "[5 rows x 25 columns]"
      ]
     },
     "execution_count": 67,
     "metadata": {},
     "output_type": "execute_result"
    }
   ],
   "source": [
    "df = (\n",
    "    pd.merge(\n",
    "        tweets.set_index('_id'), \n",
    "        locations.set_index('_id')[locations.columns.difference(tweets.columns)], \n",
    "        left_index=True, right_index=True\n",
    "    )\n",
    "    .reset_index(drop=False)\n",
    ")\n",
    "\n",
    "print(df.shape)\n",
    "df.head()"
   ]
  },
  {
   "cell_type": "markdown",
   "metadata": {},
   "source": [
    "# retweet count"
   ]
  },
  {
   "cell_type": "code",
   "execution_count": 68,
   "metadata": {
    "ExecuteTime": {
     "end_time": "2018-11-03T22:55:53.541503Z",
     "start_time": "2018-11-03T22:55:53.335724Z"
    }
   },
   "outputs": [
    {
     "data": {
      "image/png": "[encoded data removed]",
      "text/plain": [
       "<Figure size 432x288 with 1 Axes>"
      ]
     },
     "metadata": {},
     "output_type": "display_data"
    }
   ],
   "source": [
    "plt.hist(tweets['retweet_count']);"
   ]
  },
  {
   "cell_type": "code",
   "execution_count": 69,
   "metadata": {
    "ExecuteTime": {
     "end_time": "2018-11-03T22:55:53.569188Z",
     "start_time": "2018-11-03T22:55:53.543113Z"
    }
   },
   "outputs": [
    {
     "data": {
      "text/plain": [
       "0.2709403172429533"
      ]
     },
     "execution_count": 69,
     "metadata": {},
     "output_type": "execute_result"
    }
   ],
   "source": [
    "# Proportion of tweets with at least 1 retweet\n",
    "(len(df) - len(df[df['retweet_count'] == 0])) / len(df)"
   ]
  },
  {
   "cell_type": "code",
   "execution_count": 70,
   "metadata": {
    "ExecuteTime": {
     "end_time": "2018-11-03T22:55:53.578624Z",
     "start_time": "2018-11-03T22:55:53.570573Z"
    }
   },
   "outputs": [
    {
     "data": {
      "text/plain": [
       "9497"
      ]
     },
     "execution_count": 70,
     "metadata": {},
     "output_type": "execute_result"
    }
   ],
   "source": [
    "retweeted = df.loc[df['retweet_count'] > 0]\n",
    "len(retweeted)"
   ]
  },
  {
   "cell_type": "code",
   "execution_count": 71,
   "metadata": {
    "ExecuteTime": {
     "end_time": "2018-11-03T22:55:53.707161Z",
     "start_time": "2018-11-03T22:55:53.579947Z"
    }
   },
   "outputs": [
    {
     "data": {
      "image/png": "[encoded data removed]",
      "text/plain": [
       "<Figure size 432x288 with 1 Axes>"
      ]
     },
     "metadata": {},
     "output_type": "display_data"
    }
   ],
   "source": [
    "plt.hist(retweeted['retweet_count']);"
   ]
  },
  {
   "cell_type": "code",
   "execution_count": 72,
   "metadata": {
    "ExecuteTime": {
     "end_time": "2018-11-03T22:55:53.716401Z",
     "start_time": "2018-11-03T22:55:53.708550Z"
    }
   },
   "outputs": [
    {
     "data": {
      "text/plain": [
       "8912"
      ]
     },
     "execution_count": 72,
     "metadata": {},
     "output_type": "execute_result"
    }
   ],
   "source": [
    "len(retweeted[retweeted['retweet_count'] <= 20])"
   ]
  },
  {
   "cell_type": "code",
   "execution_count": 73,
   "metadata": {
    "ExecuteTime": {
     "end_time": "2018-11-03T22:55:53.861783Z",
     "start_time": "2018-11-03T22:55:53.717525Z"
    }
   },
   "outputs": [
    {
     "data": {
      "image/png": "[encoded data removed]",
      "text/plain": [
       "<Figure size 432x288 with 1 Axes>"
      ]
     },
     "metadata": {},
     "output_type": "display_data"
    }
   ],
   "source": [
    "# \n",
    "plt.hist(retweeted.loc[retweeted['retweet_count'] <= 20, 'retweet_count'])\n",
    "plt.xlabel('num retweets')\n",
    "plt.ylabel('count');"
   ]
  },
  {
   "cell_type": "markdown",
   "metadata": {},
   "source": [
    "# Favorite counts"
   ]
  },
  {
   "cell_type": "code",
   "execution_count": 74,
   "metadata": {
    "ExecuteTime": {
     "end_time": "2018-11-03T22:55:53.926629Z",
     "start_time": "2018-11-03T22:55:53.863125Z"
    }
   },
   "outputs": [
    {
     "data": {
      "text/plain": [
       "count    1.011563e+06\n",
       "mean     8.555726e+00\n",
       "std      2.855782e+02\n",
       "min      0.000000e+00\n",
       "25%      0.000000e+00\n",
       "50%      0.000000e+00\n",
       "75%      1.000000e+00\n",
       "max      1.907820e+05\n",
       "Name: favorite_count, dtype: float64"
      ]
     },
     "execution_count": 74,
     "metadata": {},
     "output_type": "execute_result"
    }
   ],
   "source": [
    "tweets['favorite_count'].describe()"
   ]
  },
  {
   "cell_type": "markdown",
   "metadata": {},
   "source": [
    "# Time Series"
   ]
  },
  {
   "cell_type": "code",
   "execution_count": 75,
   "metadata": {
    "ExecuteTime": {
     "end_time": "2018-11-03T22:55:53.931100Z",
     "start_time": "2018-11-03T22:55:53.927969Z"
    }
   },
   "outputs": [],
   "source": [
    "def year_fraction(date):\n",
    "    start = datetime.date(date.year, 1, 1).toordinal()\n",
    "    year_length = datetime.date(date.year+1, 1, 1).toordinal() - start\n",
    "    return date.year + float(date.toordinal() - start) / year_length"
   ]
  },
  {
   "cell_type": "code",
   "execution_count": 76,
   "metadata": {
    "ExecuteTime": {
     "end_time": "2018-11-03T22:55:58.336928Z",
     "start_time": "2018-11-03T22:55:53.932332Z"
    }
   },
   "outputs": [],
   "source": [
    "tweets['year'] = tweets['created_at'].dt.year\n",
    "tweets['month'] = tweets['created_at'].dt.month\n",
    "tweets['day'] = tweets['created_at'].dt.day\n",
    "tweets['hour'] = tweets['created_at'].dt.hour\n",
    "tweets['weekday'] = tweets['created_at'].dt.weekday\n",
    "\n",
    "tweets['time_cont'] = tweets['created_at'].apply(year_fraction)"
   ]
  },
  {
   "cell_type": "code",
   "execution_count": 77,
   "metadata": {
    "ExecuteTime": {
     "end_time": "2018-11-03T22:56:02.285030Z",
     "start_time": "2018-11-03T22:55:58.338412Z"
    }
   },
   "outputs": [
    {
     "name": "stderr",
     "output_type": "stream",
     "text": [
      "/home/ec2-user/.env/lib64/python3.7/site-packages/scipy/stats/stats.py:1713: FutureWarning: Using a non-tuple sequence for multidimensional indexing is deprecated; use `arr[tuple(seq)]` instead of `arr[seq]`. In the future this will be interpreted as an array index, `arr[np.array(seq)]`, which will result either in an error or a different result.\n",
      "  return np.add.reduce(sorted[indexer] * weights, axis=axis) / sumval\n"
     ]
    },
    {
     "data": {
      "image/png": "[encoded data removed]",
      "text/plain": [
       "<Figure size 720x504 with 1 Axes>"
      ]
     },
     "metadata": {},
     "output_type": "display_data"
    }
   ],
   "source": [
    "plt.figure(figsize=(10, 7))\n",
    "sns.distplot(tweets['time_cont'])\n",
    "plt.ticklabel_format(useOffset=False)\n",
    "plt.title('refugee tweets over time');"
   ]
  }
 ],
 "metadata": {
  "kernelspec": {
   "display_name": "Python 3",
   "language": "python",
   "name": "python3"
  },
  "language_info": {
   "codemirror_mode": {
    "name": "ipython",
    "version": 3
   },
   "file_extension": ".py",
   "mimetype": "text/x-python",
   "name": "python",
   "nbconvert_exporter": "python",
   "pygments_lexer": "ipython3",
   "version": "3.7.0rc1"
  }
 },
 "nbformat": 4,
 "nbformat_minor": 2
}
